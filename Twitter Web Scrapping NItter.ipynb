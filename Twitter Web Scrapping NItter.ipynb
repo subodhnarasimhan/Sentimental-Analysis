{
 "cells": [
  {
   "cell_type": "code",
   "execution_count": 13,
   "id": "fd8e68c7-6317-45c3-8330-81596aad441a",
   "metadata": {},
   "outputs": [],
   "source": [
    "from ntscraper import Nitter\n",
    "import pandas as pd"
   ]
  },
  {
   "cell_type": "code",
   "execution_count": 14,
   "id": "bd0572d7-cf61-4810-98c3-81b29c909502",
   "metadata": {},
   "outputs": [
    {
     "name": "stdout",
     "output_type": "stream",
     "text": [
      "Requirement already satisfied: ntscraper in c:\\users\\ujjaw\\anaconda3\\lib\\site-packages (0.3.10)\n",
      "Requirement already satisfied: requests in c:\\users\\ujjaw\\anaconda3\\lib\\site-packages (from ntscraper) (2.31.0)\n",
      "Requirement already satisfied: beautifulsoup4 in c:\\users\\ujjaw\\anaconda3\\lib\\site-packages (from ntscraper) (4.12.2)\n",
      "Requirement already satisfied: lxml in c:\\users\\ujjaw\\anaconda3\\lib\\site-packages (from ntscraper) (4.9.3)\n",
      "Requirement already satisfied: soupsieve>1.2 in c:\\users\\ujjaw\\anaconda3\\lib\\site-packages (from beautifulsoup4->ntscraper) (2.5)\n",
      "Requirement already satisfied: charset-normalizer<4,>=2 in c:\\users\\ujjaw\\anaconda3\\lib\\site-packages (from requests->ntscraper) (2.0.4)\n",
      "Requirement already satisfied: idna<4,>=2.5 in c:\\users\\ujjaw\\anaconda3\\lib\\site-packages (from requests->ntscraper) (3.4)\n",
      "Requirement already satisfied: urllib3<3,>=1.21.1 in c:\\users\\ujjaw\\anaconda3\\lib\\site-packages (from requests->ntscraper) (1.26.18)\n",
      "Requirement already satisfied: certifi>=2017.4.17 in c:\\users\\ujjaw\\anaconda3\\lib\\site-packages (from requests->ntscraper) (2023.11.17)\n",
      "Note: you may need to restart the kernel to use updated packages.\n"
     ]
    }
   ],
   "source": [
    "pip install ntscraper"
   ]
  },
  {
   "cell_type": "code",
   "execution_count": 15,
   "id": "d385c8ec-dc98-4faf-908f-aed87b602912",
   "metadata": {},
   "outputs": [
    {
     "name": "stderr",
     "output_type": "stream",
     "text": [
      "Testing instances: 100%|██████████| 30/30 [01:14<00:00,  2.47s/it]\n"
     ]
    }
   ],
   "source": [
    "scraper = Nitter(0)"
   ]
  },
  {
   "cell_type": "code",
   "execution_count": null,
   "id": "c6f8b16a-dfd6-468b-9d7a-9df74993cfd3",
   "metadata": {},
   "outputs": [],
   "source": [
    "tweets = scraper.get_tweets(\"ICICI\", mode = 'hashtag', number=1500)"
   ]
  },
  {
   "cell_type": "code",
   "execution_count": null,
   "id": "be89a1b2-e613-4fc2-9688-c53844647cd0",
   "metadata": {},
   "outputs": [],
   "source": [
    "final_tweets = []\n",
    "for x in tweets['tweets']:\n",
    "    data = [x['link'], x['text'],x['date'],x['stats']['likes'],x['stats']['comments']]\n",
    "    final_tweets.append(data)"
   ]
  },
  {
   "cell_type": "code",
   "execution_count": 6,
   "id": "96f8a815-371c-4171-b299-672d9d08f866",
   "metadata": {},
   "outputs": [],
   "source": [
    "dat = pd.DataFrame(final_tweets, columns =['twitter_link','text','date','likes','comments'])"
   ]
  },
  {
   "cell_type": "code",
   "execution_count": 7,
   "id": "3483886a-9713-40b8-9b3b-fd43c3b69a5d",
   "metadata": {},
   "outputs": [
    {
     "data": {
      "text/html": [
       "<div>\n",
       "<style scoped>\n",
       "    .dataframe tbody tr th:only-of-type {\n",
       "        vertical-align: middle;\n",
       "    }\n",
       "\n",
       "    .dataframe tbody tr th {\n",
       "        vertical-align: top;\n",
       "    }\n",
       "\n",
       "    .dataframe thead th {\n",
       "        text-align: right;\n",
       "    }\n",
       "</style>\n",
       "<table border=\"1\" class=\"dataframe\">\n",
       "  <thead>\n",
       "    <tr style=\"text-align: right;\">\n",
       "      <th></th>\n",
       "      <th>twitter_link</th>\n",
       "      <th>text</th>\n",
       "      <th>date</th>\n",
       "      <th>likes</th>\n",
       "      <th>comments</th>\n",
       "    </tr>\n",
       "  </thead>\n",
       "  <tbody>\n",
       "    <tr>\n",
       "      <th>0</th>\n",
       "      <td>https://twitter.com/kedianomics/status/1745021...</td>\n",
       "      <td>#Nifty #BankNifty are totally different games....</td>\n",
       "      <td>Jan 10, 2024 · 9:54 AM UTC</td>\n",
       "      <td>14</td>\n",
       "      <td>1</td>\n",
       "    </tr>\n",
       "    <tr>\n",
       "      <th>1</th>\n",
       "      <td>https://twitter.com/Chandorkar_M/status/174470...</td>\n",
       "      <td>🟢 Low PE high PROFIT stock ✅ PE: 18  \"Follow, ...</td>\n",
       "      <td>Jan 9, 2024 · 12:48 PM UTC</td>\n",
       "      <td>7</td>\n",
       "      <td>4</td>\n",
       "    </tr>\n",
       "    <tr>\n",
       "      <th>2</th>\n",
       "      <td>https://twitter.com/getblinkx/status/174502062...</td>\n",
       "      <td>🚀💰Banking goals: ICICI's RoA and RoE 📈✨ playin...</td>\n",
       "      <td>Jan 10, 2024 · 9:51 AM UTC</td>\n",
       "      <td>0</td>\n",
       "      <td>0</td>\n",
       "    </tr>\n",
       "    <tr>\n",
       "      <th>3</th>\n",
       "      <td>https://twitter.com/bindusrdas/status/17450145...</td>\n",
       "      <td>@ViCustomerCare @ICICIBank From last 3 months ...</td>\n",
       "      <td>Jan 10, 2024 · 9:27 AM UTC</td>\n",
       "      <td>0</td>\n",
       "      <td>3</td>\n",
       "    </tr>\n",
       "    <tr>\n",
       "      <th>4</th>\n",
       "      <td>https://twitter.com/iamkhaja99/status/17450096...</td>\n",
       "      <td>@imVkohli sir, I am khaja from Andhra Pradesh....</td>\n",
       "      <td>Jan 10, 2024 · 9:08 AM UTC</td>\n",
       "      <td>0</td>\n",
       "      <td>0</td>\n",
       "    </tr>\n",
       "  </tbody>\n",
       "</table>\n",
       "</div>"
      ],
      "text/plain": [
       "                                        twitter_link  \\\n",
       "0  https://twitter.com/kedianomics/status/1745021...   \n",
       "1  https://twitter.com/Chandorkar_M/status/174470...   \n",
       "2  https://twitter.com/getblinkx/status/174502062...   \n",
       "3  https://twitter.com/bindusrdas/status/17450145...   \n",
       "4  https://twitter.com/iamkhaja99/status/17450096...   \n",
       "\n",
       "                                                text  \\\n",
       "0  #Nifty #BankNifty are totally different games....   \n",
       "1  🟢 Low PE high PROFIT stock ✅ PE: 18  \"Follow, ...   \n",
       "2  🚀💰Banking goals: ICICI's RoA and RoE 📈✨ playin...   \n",
       "3  @ViCustomerCare @ICICIBank From last 3 months ...   \n",
       "4  @imVkohli sir, I am khaja from Andhra Pradesh....   \n",
       "\n",
       "                         date  likes  comments  \n",
       "0  Jan 10, 2024 · 9:54 AM UTC     14         1  \n",
       "1  Jan 9, 2024 · 12:48 PM UTC      7         4  \n",
       "2  Jan 10, 2024 · 9:51 AM UTC      0         0  \n",
       "3  Jan 10, 2024 · 9:27 AM UTC      0         3  \n",
       "4  Jan 10, 2024 · 9:08 AM UTC      0         0  "
      ]
     },
     "execution_count": 7,
     "metadata": {},
     "output_type": "execute_result"
    }
   ],
   "source": [
    "dat.head()"
   ]
  },
  {
   "cell_type": "code",
   "execution_count": null,
   "id": "5d8e317d-1cb8-4fb9-8cd5-d948e6d01193",
   "metadata": {},
   "outputs": [],
   "source": [
    "dat.to_csv('tweets_New2.csv', encoding='utf-8', index=False)"
   ]
  },
  {
   "cell_type": "code",
   "execution_count": null,
   "id": "c72485da-47c8-48ab-9a5c-03b908e892a5",
   "metadata": {},
   "outputs": [],
   "source": []
  }
 ],
 "metadata": {
  "kernelspec": {
   "display_name": "Python 3 (ipykernel)",
   "language": "python",
   "name": "python3"
  },
  "language_info": {
   "codemirror_mode": {
    "name": "ipython",
    "version": 3
   },
   "file_extension": ".py",
   "mimetype": "text/x-python",
   "name": "python",
   "nbconvert_exporter": "python",
   "pygments_lexer": "ipython3",
   "version": "3.11.7"
  }
 },
 "nbformat": 4,
 "nbformat_minor": 5
}
