{
 "cells": [
  {
   "cell_type": "code",
   "execution_count": 175,
   "id": "a0fbd3c5-4d51-4df0-bd91-087799cd432d",
   "metadata": {},
   "outputs": [],
   "source": [
    "####1) Importing the datasets"
   ]
  },
  {
   "cell_type": "code",
   "execution_count": 176,
   "id": "745c1173-2294-4f90-b7b5-edc0d723000a",
   "metadata": {},
   "outputs": [],
   "source": [
    "import numpy as np\n",
    "import pandas as pd\n",
    "import matplotlib.pyplot as plt"
   ]
  },
  {
   "cell_type": "code",
   "execution_count": 177,
   "id": "14df16d5-193d-44e0-b31a-3c107dceae2f",
   "metadata": {},
   "outputs": [],
   "source": [
    "import spacy\n",
    "nlp = spacy.load('en_core_web_sm')"
   ]
  },
  {
   "cell_type": "code",
   "execution_count": 178,
   "id": "9ae11871-f74d-4f14-b690-2d62175f891b",
   "metadata": {},
   "outputs": [
    {
     "data": {
      "text/html": [
       "<div>\n",
       "<style scoped>\n",
       "    .dataframe tbody tr th:only-of-type {\n",
       "        vertical-align: middle;\n",
       "    }\n",
       "\n",
       "    .dataframe tbody tr th {\n",
       "        vertical-align: top;\n",
       "    }\n",
       "\n",
       "    .dataframe thead th {\n",
       "        text-align: right;\n",
       "    }\n",
       "</style>\n",
       "<table border=\"1\" class=\"dataframe\">\n",
       "  <thead>\n",
       "    <tr style=\"text-align: right;\">\n",
       "      <th></th>\n",
       "      <th>Company</th>\n",
       "      <th>Date</th>\n",
       "      <th>tweet_text</th>\n",
       "      <th>Azure label</th>\n",
       "      <th>Score</th>\n",
       "      <th>TextBlob Label</th>\n",
       "      <th>Comparision</th>\n",
       "    </tr>\n",
       "  </thead>\n",
       "  <tbody>\n",
       "    <tr>\n",
       "      <th>0</th>\n",
       "      <td>IBN</td>\n",
       "      <td>2024-01-04 00:00:00</td>\n",
       "      <td>IBN Stock Earnings: ICICI Bank Reported Result...</td>\n",
       "      <td>positive</td>\n",
       "      <td>0.728372</td>\n",
       "      <td>Neutral</td>\n",
       "      <td>Do not match</td>\n",
       "    </tr>\n",
       "    <tr>\n",
       "      <th>1</th>\n",
       "      <td>IBN</td>\n",
       "      <td>2024-01-04 00:00:00</td>\n",
       "      <td>IBN Stock Earnings: ICICI Bank Beats EPS for Q...</td>\n",
       "      <td>positive</td>\n",
       "      <td>0.769400</td>\n",
       "      <td>Neutral</td>\n",
       "      <td>Do not match</td>\n",
       "    </tr>\n",
       "    <tr>\n",
       "      <th>2</th>\n",
       "      <td>IBN</td>\n",
       "      <td>2024-01-04 00:00:00</td>\n",
       "      <td>12 Asian Countries with the Best Quality of Life</td>\n",
       "      <td>positive</td>\n",
       "      <td>0.872366</td>\n",
       "      <td>Positive</td>\n",
       "      <td>Match</td>\n",
       "    </tr>\n",
       "    <tr>\n",
       "      <th>3</th>\n",
       "      <td>IBN</td>\n",
       "      <td>2024-01-04 00:00:00</td>\n",
       "      <td>Zacks Industry Outlook Highlights Mitsubishi U...</td>\n",
       "      <td>positive</td>\n",
       "      <td>0.602522</td>\n",
       "      <td>Neutral</td>\n",
       "      <td>Do not match</td>\n",
       "    </tr>\n",
       "    <tr>\n",
       "      <th>4</th>\n",
       "      <td>IBN</td>\n",
       "      <td>2024-01-04 00:00:00</td>\n",
       "      <td>Higher Rates to Aid HSBC's Q3 Earnings, IB &amp;Tr...</td>\n",
       "      <td>neutral</td>\n",
       "      <td>0.531279</td>\n",
       "      <td>Positive</td>\n",
       "      <td>Do not match</td>\n",
       "    </tr>\n",
       "  </tbody>\n",
       "</table>\n",
       "</div>"
      ],
      "text/plain": [
       "  Company                 Date  \\\n",
       "0     IBN  2024-01-04 00:00:00   \n",
       "1     IBN  2024-01-04 00:00:00   \n",
       "2     IBN  2024-01-04 00:00:00   \n",
       "3     IBN  2024-01-04 00:00:00   \n",
       "4     IBN  2024-01-04 00:00:00   \n",
       "\n",
       "                                          tweet_text Azure label     Score  \\\n",
       "0  IBN Stock Earnings: ICICI Bank Reported Result...    positive  0.728372   \n",
       "1  IBN Stock Earnings: ICICI Bank Beats EPS for Q...    positive  0.769400   \n",
       "2   12 Asian Countries with the Best Quality of Life    positive  0.872366   \n",
       "3  Zacks Industry Outlook Highlights Mitsubishi U...    positive  0.602522   \n",
       "4  Higher Rates to Aid HSBC's Q3 Earnings, IB &Tr...     neutral  0.531279   \n",
       "\n",
       "  TextBlob Label   Comparision  \n",
       "0        Neutral  Do not match  \n",
       "1        Neutral  Do not match  \n",
       "2       Positive         Match  \n",
       "3        Neutral  Do not match  \n",
       "4       Positive  Do not match  "
      ]
     },
     "execution_count": 178,
     "metadata": {},
     "output_type": "execute_result"
    }
   ],
   "source": [
    "df = pd.read_excel('C:/Users/ujjaw/Desktop/Ujjawal/ISB/FP1/CompanyNewsHeadlines_ICICI_Consolidated.xls')\n",
    "df.head()\n"
   ]
  },
  {
   "cell_type": "code",
   "execution_count": 179,
   "id": "8fbcde60-a958-450c-8a2a-d4f0f0be5420",
   "metadata": {},
   "outputs": [
    {
     "data": {
      "text/html": [
       "<div>\n",
       "<style scoped>\n",
       "    .dataframe tbody tr th:only-of-type {\n",
       "        vertical-align: middle;\n",
       "    }\n",
       "\n",
       "    .dataframe tbody tr th {\n",
       "        vertical-align: top;\n",
       "    }\n",
       "\n",
       "    .dataframe thead th {\n",
       "        text-align: right;\n",
       "    }\n",
       "</style>\n",
       "<table border=\"1\" class=\"dataframe\">\n",
       "  <thead>\n",
       "    <tr style=\"text-align: right;\">\n",
       "      <th></th>\n",
       "      <th>Company</th>\n",
       "      <th>Date</th>\n",
       "      <th>tweet_text</th>\n",
       "      <th>Azure label</th>\n",
       "      <th>Score</th>\n",
       "      <th>TextBlob Label</th>\n",
       "      <th>Comparision</th>\n",
       "    </tr>\n",
       "  </thead>\n",
       "  <tbody>\n",
       "    <tr>\n",
       "      <th>0</th>\n",
       "      <td>IBN</td>\n",
       "      <td>2024-01-04 00:00:00</td>\n",
       "      <td>IBN Stock Earnings: ICICI Bank Reported Result...</td>\n",
       "      <td>positive</td>\n",
       "      <td>0.728372</td>\n",
       "      <td>Neutral</td>\n",
       "      <td>Do not match</td>\n",
       "    </tr>\n",
       "    <tr>\n",
       "      <th>1</th>\n",
       "      <td>IBN</td>\n",
       "      <td>2024-01-04 00:00:00</td>\n",
       "      <td>IBN Stock Earnings: ICICI Bank Beats EPS for Q...</td>\n",
       "      <td>positive</td>\n",
       "      <td>0.769400</td>\n",
       "      <td>Neutral</td>\n",
       "      <td>Do not match</td>\n",
       "    </tr>\n",
       "    <tr>\n",
       "      <th>2</th>\n",
       "      <td>IBN</td>\n",
       "      <td>2024-01-04 00:00:00</td>\n",
       "      <td>12 Asian Countries with the Best Quality of Life</td>\n",
       "      <td>positive</td>\n",
       "      <td>0.872366</td>\n",
       "      <td>Positive</td>\n",
       "      <td>Match</td>\n",
       "    </tr>\n",
       "    <tr>\n",
       "      <th>3</th>\n",
       "      <td>IBN</td>\n",
       "      <td>2024-01-04 00:00:00</td>\n",
       "      <td>Zacks Industry Outlook Highlights Mitsubishi U...</td>\n",
       "      <td>positive</td>\n",
       "      <td>0.602522</td>\n",
       "      <td>Neutral</td>\n",
       "      <td>Do not match</td>\n",
       "    </tr>\n",
       "    <tr>\n",
       "      <th>4</th>\n",
       "      <td>IBN</td>\n",
       "      <td>2024-01-04 00:00:00</td>\n",
       "      <td>Higher Rates to Aid HSBC's Q3 Earnings, IB &amp;Tr...</td>\n",
       "      <td>neutral</td>\n",
       "      <td>0.531279</td>\n",
       "      <td>Positive</td>\n",
       "      <td>Do not match</td>\n",
       "    </tr>\n",
       "    <tr>\n",
       "      <th>...</th>\n",
       "      <td>...</td>\n",
       "      <td>...</td>\n",
       "      <td>...</td>\n",
       "      <td>...</td>\n",
       "      <td>...</td>\n",
       "      <td>...</td>\n",
       "      <td>...</td>\n",
       "    </tr>\n",
       "    <tr>\n",
       "      <th>1495</th>\n",
       "      <td>Twitter</td>\n",
       "      <td>Nov 3, 2023 Â· 4:18 PM UTC</td>\n",
       "      <td>Sony Bravia 164 cm (65 inches) 4K Ultra HD Sma...</td>\n",
       "      <td>neutral</td>\n",
       "      <td>0.450014</td>\n",
       "      <td>Positive</td>\n",
       "      <td>Do not match</td>\n",
       "    </tr>\n",
       "    <tr>\n",
       "      <th>1496</th>\n",
       "      <td>Twitter</td>\n",
       "      <td>Nov 3, 2023 Â· 2:39 PM UTC</td>\n",
       "      <td>@Icicidirectcare @ICICIBank_Care @Vijaychandok...</td>\n",
       "      <td>positive</td>\n",
       "      <td>0.688278</td>\n",
       "      <td>Negative</td>\n",
       "      <td>Do not match</td>\n",
       "    </tr>\n",
       "    <tr>\n",
       "      <th>1497</th>\n",
       "      <td>Twitter</td>\n",
       "      <td>Nov 3, 2023 Â· 11:03 AM UTC</td>\n",
       "      <td>ðŸ‘‰ Buying a home could get expensive  ðŸ‘‰ U...</td>\n",
       "      <td>positive</td>\n",
       "      <td>0.739117</td>\n",
       "      <td>Negative</td>\n",
       "      <td>Do not match</td>\n",
       "    </tr>\n",
       "    <tr>\n",
       "      <th>1498</th>\n",
       "      <td>Twitter</td>\n",
       "      <td>Nov 3, 2023 Â· 10:56 AM UTC</td>\n",
       "      <td>Fraud #icici first Learn to respond customer c...</td>\n",
       "      <td>negative</td>\n",
       "      <td>0.424363</td>\n",
       "      <td>Negative</td>\n",
       "      <td>Match</td>\n",
       "    </tr>\n",
       "    <tr>\n",
       "      <th>1499</th>\n",
       "      <td>Twitter</td>\n",
       "      <td>Nov 3, 2023 Â· 10:50 AM UTC</td>\n",
       "      <td>@Icicidirectcare @ICICIBank_Care @Vijaychandok...</td>\n",
       "      <td>negative</td>\n",
       "      <td>0.132052</td>\n",
       "      <td>Negative</td>\n",
       "      <td>Match</td>\n",
       "    </tr>\n",
       "  </tbody>\n",
       "</table>\n",
       "<p>1500 rows × 7 columns</p>\n",
       "</div>"
      ],
      "text/plain": [
       "      Company                         Date  \\\n",
       "0         IBN          2024-01-04 00:00:00   \n",
       "1         IBN          2024-01-04 00:00:00   \n",
       "2         IBN          2024-01-04 00:00:00   \n",
       "3         IBN          2024-01-04 00:00:00   \n",
       "4         IBN          2024-01-04 00:00:00   \n",
       "...       ...                          ...   \n",
       "1495  Twitter   Nov 3, 2023 Â· 4:18 PM UTC   \n",
       "1496  Twitter   Nov 3, 2023 Â· 2:39 PM UTC   \n",
       "1497  Twitter  Nov 3, 2023 Â· 11:03 AM UTC   \n",
       "1498  Twitter  Nov 3, 2023 Â· 10:56 AM UTC   \n",
       "1499  Twitter  Nov 3, 2023 Â· 10:50 AM UTC   \n",
       "\n",
       "                                             tweet_text Azure label     Score  \\\n",
       "0     IBN Stock Earnings: ICICI Bank Reported Result...    positive  0.728372   \n",
       "1     IBN Stock Earnings: ICICI Bank Beats EPS for Q...    positive  0.769400   \n",
       "2      12 Asian Countries with the Best Quality of Life    positive  0.872366   \n",
       "3     Zacks Industry Outlook Highlights Mitsubishi U...    positive  0.602522   \n",
       "4     Higher Rates to Aid HSBC's Q3 Earnings, IB &Tr...     neutral  0.531279   \n",
       "...                                                 ...         ...       ...   \n",
       "1495  Sony Bravia 164 cm (65 inches) 4K Ultra HD Sma...     neutral  0.450014   \n",
       "1496  @Icicidirectcare @ICICIBank_Care @Vijaychandok...    positive  0.688278   \n",
       "1497  ðŸ‘‰ Buying a home could get expensive  ðŸ‘‰ U...    positive  0.739117   \n",
       "1498  Fraud #icici first Learn to respond customer c...    negative  0.424363   \n",
       "1499  @Icicidirectcare @ICICIBank_Care @Vijaychandok...    negative  0.132052   \n",
       "\n",
       "     TextBlob Label   Comparision  \n",
       "0           Neutral  Do not match  \n",
       "1           Neutral  Do not match  \n",
       "2          Positive         Match  \n",
       "3           Neutral  Do not match  \n",
       "4          Positive  Do not match  \n",
       "...             ...           ...  \n",
       "1495       Positive  Do not match  \n",
       "1496       Negative  Do not match  \n",
       "1497       Negative  Do not match  \n",
       "1498       Negative         Match  \n",
       "1499       Negative         Match  \n",
       "\n",
       "[1500 rows x 7 columns]"
      ]
     },
     "execution_count": 179,
     "metadata": {},
     "output_type": "execute_result"
    }
   ],
   "source": [
    "df.head(1500)"
   ]
  },
  {
   "cell_type": "code",
   "execution_count": 180,
   "id": "af9c5395-7690-4022-9f66-63ee61b7a451",
   "metadata": {},
   "outputs": [],
   "source": [
    "# Drop columns \n",
    "columns_to_drop = ['Company', 'Date','Score','TextBlob Label','Comparision']\n",
    "df = df.drop(columns=columns_to_drop)"
   ]
  },
  {
   "cell_type": "code",
   "execution_count": 181,
   "id": "e1baeefc-eb31-4884-8918-07965c113bab",
   "metadata": {},
   "outputs": [
    {
     "data": {
      "text/html": [
       "<div>\n",
       "<style scoped>\n",
       "    .dataframe tbody tr th:only-of-type {\n",
       "        vertical-align: middle;\n",
       "    }\n",
       "\n",
       "    .dataframe tbody tr th {\n",
       "        vertical-align: top;\n",
       "    }\n",
       "\n",
       "    .dataframe thead th {\n",
       "        text-align: right;\n",
       "    }\n",
       "</style>\n",
       "<table border=\"1\" class=\"dataframe\">\n",
       "  <thead>\n",
       "    <tr style=\"text-align: right;\">\n",
       "      <th></th>\n",
       "      <th>tweet_text</th>\n",
       "      <th>Azure label</th>\n",
       "    </tr>\n",
       "  </thead>\n",
       "  <tbody>\n",
       "    <tr>\n",
       "      <th>0</th>\n",
       "      <td>IBN Stock Earnings: ICICI Bank Reported Result...</td>\n",
       "      <td>positive</td>\n",
       "    </tr>\n",
       "    <tr>\n",
       "      <th>1</th>\n",
       "      <td>IBN Stock Earnings: ICICI Bank Beats EPS for Q...</td>\n",
       "      <td>positive</td>\n",
       "    </tr>\n",
       "    <tr>\n",
       "      <th>2</th>\n",
       "      <td>12 Asian Countries with the Best Quality of Life</td>\n",
       "      <td>positive</td>\n",
       "    </tr>\n",
       "    <tr>\n",
       "      <th>3</th>\n",
       "      <td>Zacks Industry Outlook Highlights Mitsubishi U...</td>\n",
       "      <td>positive</td>\n",
       "    </tr>\n",
       "    <tr>\n",
       "      <th>4</th>\n",
       "      <td>Higher Rates to Aid HSBC's Q3 Earnings, IB &amp;Tr...</td>\n",
       "      <td>neutral</td>\n",
       "    </tr>\n",
       "    <tr>\n",
       "      <th>...</th>\n",
       "      <td>...</td>\n",
       "      <td>...</td>\n",
       "    </tr>\n",
       "    <tr>\n",
       "      <th>1863</th>\n",
       "      <td>#ICICI #LOMBARD #GENERAL #INSURANCE: Q2  NET P...</td>\n",
       "      <td>positive</td>\n",
       "    </tr>\n",
       "    <tr>\n",
       "      <th>1864</th>\n",
       "      <td>ICICI Bank violates norms relating to Loans an...</td>\n",
       "      <td>positive</td>\n",
       "    </tr>\n",
       "    <tr>\n",
       "      <th>1865</th>\n",
       "      <td>RBI issues penalties worth 17cr to ICICI Bank ...</td>\n",
       "      <td>positive</td>\n",
       "    </tr>\n",
       "    <tr>\n",
       "      <th>1866</th>\n",
       "      <td>I have already sent my contact number. Note th...</td>\n",
       "      <td>negative</td>\n",
       "    </tr>\n",
       "    <tr>\n",
       "      <th>1867</th>\n",
       "      <td>à¤¨à¥à¤•à¤¸à¤¾à¤¨à¥€à¤šà¥à¤¯à¤¾ à¤¸à¤°à¥à¤µ...</td>\n",
       "      <td>positive</td>\n",
       "    </tr>\n",
       "  </tbody>\n",
       "</table>\n",
       "<p>1868 rows × 2 columns</p>\n",
       "</div>"
      ],
      "text/plain": [
       "                                             tweet_text Azure label\n",
       "0     IBN Stock Earnings: ICICI Bank Reported Result...    positive\n",
       "1     IBN Stock Earnings: ICICI Bank Beats EPS for Q...    positive\n",
       "2      12 Asian Countries with the Best Quality of Life    positive\n",
       "3     Zacks Industry Outlook Highlights Mitsubishi U...    positive\n",
       "4     Higher Rates to Aid HSBC's Q3 Earnings, IB &Tr...     neutral\n",
       "...                                                 ...         ...\n",
       "1863  #ICICI #LOMBARD #GENERAL #INSURANCE: Q2  NET P...    positive\n",
       "1864  ICICI Bank violates norms relating to Loans an...    positive\n",
       "1865  RBI issues penalties worth 17cr to ICICI Bank ...    positive\n",
       "1866  I have already sent my contact number. Note th...    negative\n",
       "1867  à¤¨à¥à¤•à¤¸à¤¾à¤¨à¥€à¤šà¥à¤¯à¤¾ à¤¸à¤°à¥à¤µ...    positive\n",
       "\n",
       "[1868 rows x 2 columns]"
      ]
     },
     "execution_count": 181,
     "metadata": {},
     "output_type": "execute_result"
    }
   ],
   "source": [
    "df"
   ]
  },
  {
   "cell_type": "code",
   "execution_count": 182,
   "id": "66ce5e2c-e1b6-49be-be9d-759e726a8403",
   "metadata": {},
   "outputs": [
    {
     "data": {
      "text/plain": [
       "Azure label\n",
       "positive    1049\n",
       "neutral      419\n",
       "negative     400\n",
       "Name: count, dtype: int64"
      ]
     },
     "execution_count": 182,
     "metadata": {},
     "output_type": "execute_result"
    }
   ],
   "source": [
    "df['Azure label'].value_counts()"
   ]
  },
  {
   "cell_type": "code",
   "execution_count": 183,
   "id": "dbaca226-6835-4b57-8002-ffd0e16a31d1",
   "metadata": {},
   "outputs": [],
   "source": [
    "# check for null values\n",
    "df.isnull().sum()\n",
    "df=df.dropna()\n",
    "df = df.reset_index(drop=True)\n",
    "\n",
    "# no null values in the data"
   ]
  },
  {
   "cell_type": "code",
   "execution_count": 184,
   "id": "ed8c1420-24aa-475c-b0bd-9d1ae4250183",
   "metadata": {},
   "outputs": [],
   "source": [
    "####2) Data Cleaning\n",
    "# here we will remove stopwords, punctuations\n",
    "# as well as we will apply lemmatization"
   ]
  },
  {
   "cell_type": "code",
   "execution_count": 185,
   "id": "1d738fed-4125-43eb-9252-54e1fc7d7a8a",
   "metadata": {},
   "outputs": [
    {
     "data": {
      "text/plain": [
       "'The six-member monetary policy committee kept repo rates unchanged at 6.5 percent in the December meeting...'"
      ]
     },
     "execution_count": 185,
     "metadata": {},
     "output_type": "execute_result"
    }
   ],
   "source": [
    "import re\n",
    "clean =  re.compile('<.*?>')\n",
    "re.sub(clean,'',df.iloc[200].tweet_text)"
   ]
  },
  {
   "cell_type": "code",
   "execution_count": 186,
   "id": "268a051f-f6e4-4040-aaf8-a5b61fb16ec1",
   "metadata": {},
   "outputs": [],
   "source": [
    "def clean_html(text):\n",
    "    clean =  re.compile('<.*?>')\n",
    "    return  re.sub(clean, '' , text)"
   ]
  },
  {
   "cell_type": "code",
   "execution_count": 187,
   "id": "98c56215-ef4c-43dd-a82c-7792ab7a76d4",
   "metadata": {},
   "outputs": [],
   "source": [
    "df['tweet_text'] = df['tweet_text'].apply(clean_html)"
   ]
  },
  {
   "cell_type": "code",
   "execution_count": 188,
   "id": "6b9b6a7e-586f-4803-a3ac-bef966a6e0b6",
   "metadata": {},
   "outputs": [],
   "source": [
    "##function to remove special character. \n",
    "\n",
    "def remove_special(tweet_text):\n",
    "    if tweet_text is None:\n",
    "        return None\n",
    "    x=''\n",
    "\n",
    "    for  i in tweet_text:\n",
    "        if i.isalnum():\n",
    "            x=x+i\n",
    "        elif i.isspace():\n",
    "            x=x+' '\n",
    "        else:\n",
    "            x=x +  ''\n",
    "    return x"
   ]
  },
  {
   "cell_type": "code",
   "execution_count": 189,
   "id": "1ee05f0f-114e-4c0f-9495-364f77e47ce5",
   "metadata": {},
   "outputs": [],
   "source": [
    "df['tweet_text'] = df['tweet_text'].apply(remove_special)"
   ]
  },
  {
   "cell_type": "code",
   "execution_count": 190,
   "id": "b313e752-be5f-4a28-bdd5-19ad87c49651",
   "metadata": {},
   "outputs": [
    {
     "name": "stdout",
     "output_type": "stream",
     "text": [
      "Original Text: à¤¨à¥à¤•à¤¸à¤¾à¤¨à¥€à¤&^%^%$^šà¥à¤¯à¤¾ à¤¸à¤°à¥à¤\n",
      "Cleaned Text: &^%^%$^ \n"
     ]
    }
   ],
   "source": [
    "import re\n",
    "\n",
    "def remove_non_ascii(text):\n",
    "    return re.sub(r'[^\\x00-\\x7F]+', '', text)\n",
    "\n",
    "# Example usage\n",
    "original_text = \"à¤¨à¥à¤•à¤¸à¤¾à¤¨à¥€à¤&^%^%$^šà¥à¤¯à¤¾ à¤¸à¤°à¥à¤\"\n",
    "cleaned_text = remove_non_ascii(original_text)\n",
    "\n",
    "print(\"Original Text:\", original_text)\n",
    "print(\"Cleaned Text:\", cleaned_text)"
   ]
  },
  {
   "cell_type": "code",
   "execution_count": 191,
   "id": "bf1b66ea-7059-4bf0-ab00-f1e49ed83e85",
   "metadata": {},
   "outputs": [],
   "source": [
    "df['tweet_text'] = df['tweet_text'].apply(remove_non_ascii)"
   ]
  },
  {
   "cell_type": "code",
   "execution_count": 192,
   "id": "2fc2cfea-5963-485c-a6a1-240547d1d007",
   "metadata": {},
   "outputs": [
    {
     "data": {
      "text/html": [
       "<div>\n",
       "<style scoped>\n",
       "    .dataframe tbody tr th:only-of-type {\n",
       "        vertical-align: middle;\n",
       "    }\n",
       "\n",
       "    .dataframe tbody tr th {\n",
       "        vertical-align: top;\n",
       "    }\n",
       "\n",
       "    .dataframe thead th {\n",
       "        text-align: right;\n",
       "    }\n",
       "</style>\n",
       "<table border=\"1\" class=\"dataframe\">\n",
       "  <thead>\n",
       "    <tr style=\"text-align: right;\">\n",
       "      <th></th>\n",
       "      <th>tweet_text</th>\n",
       "      <th>Azure label</th>\n",
       "    </tr>\n",
       "  </thead>\n",
       "  <tbody>\n",
       "    <tr>\n",
       "      <th>0</th>\n",
       "      <td>IBN Stock Earnings ICICI Bank Reported Results...</td>\n",
       "      <td>positive</td>\n",
       "    </tr>\n",
       "    <tr>\n",
       "      <th>1</th>\n",
       "      <td>IBN Stock Earnings ICICI Bank Beats EPS for Q1...</td>\n",
       "      <td>positive</td>\n",
       "    </tr>\n",
       "    <tr>\n",
       "      <th>2</th>\n",
       "      <td>12 Asian Countries with the Best Quality of Life</td>\n",
       "      <td>positive</td>\n",
       "    </tr>\n",
       "    <tr>\n",
       "      <th>3</th>\n",
       "      <td>Zacks Industry Outlook Highlights Mitsubishi U...</td>\n",
       "      <td>positive</td>\n",
       "    </tr>\n",
       "    <tr>\n",
       "      <th>4</th>\n",
       "      <td>Higher Rates to Aid HSBCs Q3 Earnings IB Tradi...</td>\n",
       "      <td>neutral</td>\n",
       "    </tr>\n",
       "    <tr>\n",
       "      <th>...</th>\n",
       "      <td>...</td>\n",
       "      <td>...</td>\n",
       "    </tr>\n",
       "    <tr>\n",
       "      <th>1863</th>\n",
       "      <td>ICICI LOMBARD GENERAL INSURANCE Q2  NET PROFIT...</td>\n",
       "      <td>positive</td>\n",
       "    </tr>\n",
       "    <tr>\n",
       "      <th>1864</th>\n",
       "      <td>ICICI Bank violates norms relating to Loans an...</td>\n",
       "      <td>positive</td>\n",
       "    </tr>\n",
       "    <tr>\n",
       "      <th>1865</th>\n",
       "      <td>RBI issues penalties worth 17cr to ICICI Bank ...</td>\n",
       "      <td>positive</td>\n",
       "    </tr>\n",
       "    <tr>\n",
       "      <th>1866</th>\n",
       "      <td>I have already sent my contact number Note tha...</td>\n",
       "      <td>negative</td>\n",
       "    </tr>\n",
       "    <tr>\n",
       "      <th>1867</th>\n",
       "      <td>ICICI          httpsnews15marathicombyfo...</td>\n",
       "      <td>positive</td>\n",
       "    </tr>\n",
       "  </tbody>\n",
       "</table>\n",
       "<p>1868 rows × 2 columns</p>\n",
       "</div>"
      ],
      "text/plain": [
       "                                             tweet_text Azure label\n",
       "0     IBN Stock Earnings ICICI Bank Reported Results...    positive\n",
       "1     IBN Stock Earnings ICICI Bank Beats EPS for Q1...    positive\n",
       "2      12 Asian Countries with the Best Quality of Life    positive\n",
       "3     Zacks Industry Outlook Highlights Mitsubishi U...    positive\n",
       "4     Higher Rates to Aid HSBCs Q3 Earnings IB Tradi...     neutral\n",
       "...                                                 ...         ...\n",
       "1863  ICICI LOMBARD GENERAL INSURANCE Q2  NET PROFIT...    positive\n",
       "1864  ICICI Bank violates norms relating to Loans an...    positive\n",
       "1865  RBI issues penalties worth 17cr to ICICI Bank ...    positive\n",
       "1866  I have already sent my contact number Note tha...    negative\n",
       "1867        ICICI          httpsnews15marathicombyfo...    positive\n",
       "\n",
       "[1868 rows x 2 columns]"
      ]
     },
     "execution_count": 192,
     "metadata": {},
     "output_type": "execute_result"
    }
   ],
   "source": [
    "df"
   ]
  },
  {
   "cell_type": "code",
   "execution_count": 193,
   "id": "41e9e594-8bee-4897-85bd-d35bfa0c44b2",
   "metadata": {},
   "outputs": [
    {
     "data": {
      "text/html": [
       "<div>\n",
       "<style scoped>\n",
       "    .dataframe tbody tr th:only-of-type {\n",
       "        vertical-align: middle;\n",
       "    }\n",
       "\n",
       "    .dataframe tbody tr th {\n",
       "        vertical-align: top;\n",
       "    }\n",
       "\n",
       "    .dataframe thead th {\n",
       "        text-align: right;\n",
       "    }\n",
       "</style>\n",
       "<table border=\"1\" class=\"dataframe\">\n",
       "  <thead>\n",
       "    <tr style=\"text-align: right;\">\n",
       "      <th></th>\n",
       "      <th>tweet_text</th>\n",
       "      <th>Azure label</th>\n",
       "    </tr>\n",
       "  </thead>\n",
       "  <tbody>\n",
       "    <tr>\n",
       "      <th>count</th>\n",
       "      <td>1868</td>\n",
       "      <td>1868</td>\n",
       "    </tr>\n",
       "    <tr>\n",
       "      <th>unique</th>\n",
       "      <td>1443</td>\n",
       "      <td>3</td>\n",
       "    </tr>\n",
       "    <tr>\n",
       "      <th>top</th>\n",
       "      <td>The banks asset quality improved as the gross ...</td>\n",
       "      <td>positive</td>\n",
       "    </tr>\n",
       "    <tr>\n",
       "      <th>freq</th>\n",
       "      <td>45</td>\n",
       "      <td>1049</td>\n",
       "    </tr>\n",
       "  </tbody>\n",
       "</table>\n",
       "</div>"
      ],
      "text/plain": [
       "                                               tweet_text Azure label\n",
       "count                                                1868        1868\n",
       "unique                                               1443           3\n",
       "top     The banks asset quality improved as the gross ...    positive\n",
       "freq                                                   45        1049"
      ]
     },
     "execution_count": 193,
     "metadata": {},
     "output_type": "execute_result"
    }
   ],
   "source": [
    "df.describe()"
   ]
  },
  {
   "cell_type": "code",
   "execution_count": 194,
   "id": "71d1cab6-40b9-4adc-9363-ad85634c8d38",
   "metadata": {},
   "outputs": [],
   "source": [
    "from bs4 import BeautifulSoup\n",
    "import re"
   ]
  },
  {
   "cell_type": "code",
   "execution_count": 195,
   "id": "ecc9c1c2-e1fd-4f53-936d-c1a90cec6036",
   "metadata": {},
   "outputs": [],
   "source": [
    "df['tweet_text'] = df['tweet_text'].apply(lambda x: BeautifulSoup(x).get_text())\n",
    "df['tweet_text'] = df['tweet_text'].apply(lambda x: re.sub(r'http\\S+', '', x))"
   ]
  },
  {
   "cell_type": "code",
   "execution_count": 196,
   "id": "99b6fed3-8959-49b5-8d92-9ce6ac779250",
   "metadata": {},
   "outputs": [],
   "source": [
    "import re\n",
    "\n",
    "def contractions(s):\n",
    "    s = re.sub(r\"won't\", 'will not', s)\n",
    "    s = re.sub(r\"wouldn't\", 'would not', s)\n",
    "    s = re.sub(r\"couldn't\", 'could not', s)\n",
    "    s = re.sub(r\"can't\", 'can not', s)\n",
    "    s = re.sub(r\"n't\", ' not', s)\n",
    "    s = re.sub(r\"'d\", ' would', s)\n",
    "    s = re.sub(r\"'re\", ' are', s)\n",
    "    s = re.sub(r\"'s\", ' is', s)\n",
    "    s = re.sub(r\"'ll\", ' will', s)\n",
    "    s = re.sub(r\"'t\", ' not', s)\n",
    "    s = re.sub(r\"'ve\", ' have', s)\n",
    "    s = re.sub(r\"'m\", ' am', s)\n",
    "    return s\n",
    "\n",
    "# Assuming 'tweet_text' is the column containing text data in your DataFrame\n",
    "df['tweet_text'] = df['tweet_text'].apply(contractions)"
   ]
  },
  {
   "cell_type": "code",
   "execution_count": 197,
   "id": "934a7cab-87fc-4766-9909-21519afce7e1",
   "metadata": {},
   "outputs": [
    {
     "data": {
      "text/html": [
       "<div>\n",
       "<style scoped>\n",
       "    .dataframe tbody tr th:only-of-type {\n",
       "        vertical-align: middle;\n",
       "    }\n",
       "\n",
       "    .dataframe tbody tr th {\n",
       "        vertical-align: top;\n",
       "    }\n",
       "\n",
       "    .dataframe thead th {\n",
       "        text-align: right;\n",
       "    }\n",
       "</style>\n",
       "<table border=\"1\" class=\"dataframe\">\n",
       "  <thead>\n",
       "    <tr style=\"text-align: right;\">\n",
       "      <th></th>\n",
       "      <th>tweet_text</th>\n",
       "      <th>Azure label</th>\n",
       "    </tr>\n",
       "  </thead>\n",
       "  <tbody>\n",
       "    <tr>\n",
       "      <th>0</th>\n",
       "      <td>IBN Stock Earnings ICICI Bank Reported Results...</td>\n",
       "      <td>positive</td>\n",
       "    </tr>\n",
       "    <tr>\n",
       "      <th>1</th>\n",
       "      <td>IBN Stock Earnings ICICI Bank Beats EPS for Q1...</td>\n",
       "      <td>positive</td>\n",
       "    </tr>\n",
       "    <tr>\n",
       "      <th>2</th>\n",
       "      <td>12 Asian Countries with the Best Quality of Life</td>\n",
       "      <td>positive</td>\n",
       "    </tr>\n",
       "    <tr>\n",
       "      <th>3</th>\n",
       "      <td>Zacks Industry Outlook Highlights Mitsubishi U...</td>\n",
       "      <td>positive</td>\n",
       "    </tr>\n",
       "    <tr>\n",
       "      <th>4</th>\n",
       "      <td>Higher Rates to Aid HSBCs Q3 Earnings IB Tradi...</td>\n",
       "      <td>neutral</td>\n",
       "    </tr>\n",
       "    <tr>\n",
       "      <th>...</th>\n",
       "      <td>...</td>\n",
       "      <td>...</td>\n",
       "    </tr>\n",
       "    <tr>\n",
       "      <th>1863</th>\n",
       "      <td>ICICI LOMBARD GENERAL INSURANCE Q2  NET PROFIT...</td>\n",
       "      <td>positive</td>\n",
       "    </tr>\n",
       "    <tr>\n",
       "      <th>1864</th>\n",
       "      <td>ICICI Bank violates norms relating to Loans an...</td>\n",
       "      <td>positive</td>\n",
       "    </tr>\n",
       "    <tr>\n",
       "      <th>1865</th>\n",
       "      <td>RBI issues penalties worth 17cr to ICICI Bank ...</td>\n",
       "      <td>positive</td>\n",
       "    </tr>\n",
       "    <tr>\n",
       "      <th>1866</th>\n",
       "      <td>I have already sent my contact number Note tha...</td>\n",
       "      <td>negative</td>\n",
       "    </tr>\n",
       "    <tr>\n",
       "      <th>1867</th>\n",
       "      <td>ICICI</td>\n",
       "      <td>positive</td>\n",
       "    </tr>\n",
       "  </tbody>\n",
       "</table>\n",
       "<p>1868 rows × 2 columns</p>\n",
       "</div>"
      ],
      "text/plain": [
       "                                             tweet_text Azure label\n",
       "0     IBN Stock Earnings ICICI Bank Reported Results...    positive\n",
       "1     IBN Stock Earnings ICICI Bank Beats EPS for Q1...    positive\n",
       "2      12 Asian Countries with the Best Quality of Life    positive\n",
       "3     Zacks Industry Outlook Highlights Mitsubishi U...    positive\n",
       "4     Higher Rates to Aid HSBCs Q3 Earnings IB Tradi...     neutral\n",
       "...                                                 ...         ...\n",
       "1863  ICICI LOMBARD GENERAL INSURANCE Q2  NET PROFIT...    positive\n",
       "1864  ICICI Bank violates norms relating to Loans an...    positive\n",
       "1865  RBI issues penalties worth 17cr to ICICI Bank ...    positive\n",
       "1866  I have already sent my contact number Note tha...    negative\n",
       "1867                                    ICICI              positive\n",
       "\n",
       "[1868 rows x 2 columns]"
      ]
     },
     "execution_count": 197,
     "metadata": {},
     "output_type": "execute_result"
    }
   ],
   "source": [
    "df"
   ]
  },
  {
   "cell_type": "code",
   "execution_count": 198,
   "id": "940aa4fa-0a77-44db-8671-a24fd91bf18c",
   "metadata": {},
   "outputs": [],
   "source": [
    "import nltk"
   ]
  },
  {
   "cell_type": "code",
   "execution_count": 199,
   "id": "188776be-5ebb-4d94-aa16-e75515927763",
   "metadata": {},
   "outputs": [],
   "source": [
    "df['tweet_text']=df['tweet_text'].apply(lambda x: ' '.join([re.sub('[^A-Za-z]+','', x) for x in nltk.word_tokenize(x)]))"
   ]
  },
  {
   "cell_type": "code",
   "execution_count": 200,
   "id": "4d21571b-5277-4b98-a941-5578022e686a",
   "metadata": {},
   "outputs": [
    {
     "data": {
      "text/html": [
       "<div>\n",
       "<style scoped>\n",
       "    .dataframe tbody tr th:only-of-type {\n",
       "        vertical-align: middle;\n",
       "    }\n",
       "\n",
       "    .dataframe tbody tr th {\n",
       "        vertical-align: top;\n",
       "    }\n",
       "\n",
       "    .dataframe thead th {\n",
       "        text-align: right;\n",
       "    }\n",
       "</style>\n",
       "<table border=\"1\" class=\"dataframe\">\n",
       "  <thead>\n",
       "    <tr style=\"text-align: right;\">\n",
       "      <th></th>\n",
       "      <th>tweet_text</th>\n",
       "      <th>Azure label</th>\n",
       "    </tr>\n",
       "  </thead>\n",
       "  <tbody>\n",
       "    <tr>\n",
       "      <th>0</th>\n",
       "      <td>IBN Stock Earnings ICICI Bank Reported Results...</td>\n",
       "      <td>positive</td>\n",
       "    </tr>\n",
       "    <tr>\n",
       "      <th>1</th>\n",
       "      <td>IBN Stock Earnings ICICI Bank Beats EPS for Q</td>\n",
       "      <td>positive</td>\n",
       "    </tr>\n",
       "    <tr>\n",
       "      <th>2</th>\n",
       "      <td>Asian Countries with the Best Quality of Life</td>\n",
       "      <td>positive</td>\n",
       "    </tr>\n",
       "    <tr>\n",
       "      <th>3</th>\n",
       "      <td>Zacks Industry Outlook Highlights Mitsubishi U...</td>\n",
       "      <td>positive</td>\n",
       "    </tr>\n",
       "    <tr>\n",
       "      <th>4</th>\n",
       "      <td>Higher Rates to Aid HSBCs Q Earnings IB Tradin...</td>\n",
       "      <td>neutral</td>\n",
       "    </tr>\n",
       "    <tr>\n",
       "      <th>...</th>\n",
       "      <td>...</td>\n",
       "      <td>...</td>\n",
       "    </tr>\n",
       "    <tr>\n",
       "      <th>1863</th>\n",
       "      <td>ICICI LOMBARD GENERAL INSURANCE Q NET PROFIT B...</td>\n",
       "      <td>positive</td>\n",
       "    </tr>\n",
       "    <tr>\n",
       "      <th>1864</th>\n",
       "      <td>ICICI Bank violates norms relating to Loans an...</td>\n",
       "      <td>positive</td>\n",
       "    </tr>\n",
       "    <tr>\n",
       "      <th>1865</th>\n",
       "      <td>RBI issues penalties worth cr to ICICI Bank an...</td>\n",
       "      <td>positive</td>\n",
       "    </tr>\n",
       "    <tr>\n",
       "      <th>1866</th>\n",
       "      <td>I have already sent my contact number Note tha...</td>\n",
       "      <td>negative</td>\n",
       "    </tr>\n",
       "    <tr>\n",
       "      <th>1867</th>\n",
       "      <td>ICICI</td>\n",
       "      <td>positive</td>\n",
       "    </tr>\n",
       "  </tbody>\n",
       "</table>\n",
       "<p>1868 rows × 2 columns</p>\n",
       "</div>"
      ],
      "text/plain": [
       "                                             tweet_text Azure label\n",
       "0     IBN Stock Earnings ICICI Bank Reported Results...    positive\n",
       "1        IBN Stock Earnings ICICI Bank Beats EPS for Q     positive\n",
       "2         Asian Countries with the Best Quality of Life    positive\n",
       "3     Zacks Industry Outlook Highlights Mitsubishi U...    positive\n",
       "4     Higher Rates to Aid HSBCs Q Earnings IB Tradin...     neutral\n",
       "...                                                 ...         ...\n",
       "1863  ICICI LOMBARD GENERAL INSURANCE Q NET PROFIT B...    positive\n",
       "1864  ICICI Bank violates norms relating to Loans an...    positive\n",
       "1865  RBI issues penalties worth cr to ICICI Bank an...    positive\n",
       "1866  I have already sent my contact number Note tha...    negative\n",
       "1867                                              ICICI    positive\n",
       "\n",
       "[1868 rows x 2 columns]"
      ]
     },
     "execution_count": 200,
     "metadata": {},
     "output_type": "execute_result"
    }
   ],
   "source": [
    "df"
   ]
  },
  {
   "cell_type": "code",
   "execution_count": 201,
   "id": "2462481a-1a08-42ab-8590-94b93c17ab8a",
   "metadata": {},
   "outputs": [],
   "source": [
    "df['tweet_text']=df['tweet_text'].apply(lambda x: re.sub(' +', ' ', x))"
   ]
  },
  {
   "cell_type": "code",
   "execution_count": 202,
   "id": "d7339ea8-6e92-4659-9a15-dd9b26b1ad38",
   "metadata": {},
   "outputs": [
    {
     "data": {
      "text/html": [
       "<div>\n",
       "<style scoped>\n",
       "    .dataframe tbody tr th:only-of-type {\n",
       "        vertical-align: middle;\n",
       "    }\n",
       "\n",
       "    .dataframe tbody tr th {\n",
       "        vertical-align: top;\n",
       "    }\n",
       "\n",
       "    .dataframe thead th {\n",
       "        text-align: right;\n",
       "    }\n",
       "</style>\n",
       "<table border=\"1\" class=\"dataframe\">\n",
       "  <thead>\n",
       "    <tr style=\"text-align: right;\">\n",
       "      <th></th>\n",
       "      <th>tweet_text</th>\n",
       "      <th>Azure label</th>\n",
       "    </tr>\n",
       "  </thead>\n",
       "  <tbody>\n",
       "    <tr>\n",
       "      <th>0</th>\n",
       "      <td>IBN Stock Earnings ICICI Bank Reported Results...</td>\n",
       "      <td>positive</td>\n",
       "    </tr>\n",
       "    <tr>\n",
       "      <th>1</th>\n",
       "      <td>IBN Stock Earnings ICICI Bank Beats EPS for Q</td>\n",
       "      <td>positive</td>\n",
       "    </tr>\n",
       "    <tr>\n",
       "      <th>2</th>\n",
       "      <td>Asian Countries with the Best Quality of Life</td>\n",
       "      <td>positive</td>\n",
       "    </tr>\n",
       "    <tr>\n",
       "      <th>3</th>\n",
       "      <td>Zacks Industry Outlook Highlights Mitsubishi U...</td>\n",
       "      <td>positive</td>\n",
       "    </tr>\n",
       "    <tr>\n",
       "      <th>4</th>\n",
       "      <td>Higher Rates to Aid HSBCs Q Earnings IB Tradin...</td>\n",
       "      <td>neutral</td>\n",
       "    </tr>\n",
       "    <tr>\n",
       "      <th>...</th>\n",
       "      <td>...</td>\n",
       "      <td>...</td>\n",
       "    </tr>\n",
       "    <tr>\n",
       "      <th>1863</th>\n",
       "      <td>ICICI LOMBARD GENERAL INSURANCE Q NET PROFIT B...</td>\n",
       "      <td>positive</td>\n",
       "    </tr>\n",
       "    <tr>\n",
       "      <th>1864</th>\n",
       "      <td>ICICI Bank violates norms relating to Loans an...</td>\n",
       "      <td>positive</td>\n",
       "    </tr>\n",
       "    <tr>\n",
       "      <th>1865</th>\n",
       "      <td>RBI issues penalties worth cr to ICICI Bank an...</td>\n",
       "      <td>positive</td>\n",
       "    </tr>\n",
       "    <tr>\n",
       "      <th>1866</th>\n",
       "      <td>I have already sent my contact number Note tha...</td>\n",
       "      <td>negative</td>\n",
       "    </tr>\n",
       "    <tr>\n",
       "      <th>1867</th>\n",
       "      <td>ICICI</td>\n",
       "      <td>positive</td>\n",
       "    </tr>\n",
       "  </tbody>\n",
       "</table>\n",
       "<p>1868 rows × 2 columns</p>\n",
       "</div>"
      ],
      "text/plain": [
       "                                             tweet_text Azure label\n",
       "0     IBN Stock Earnings ICICI Bank Reported Results...    positive\n",
       "1        IBN Stock Earnings ICICI Bank Beats EPS for Q     positive\n",
       "2         Asian Countries with the Best Quality of Life    positive\n",
       "3     Zacks Industry Outlook Highlights Mitsubishi U...    positive\n",
       "4     Higher Rates to Aid HSBCs Q Earnings IB Tradin...     neutral\n",
       "...                                                 ...         ...\n",
       "1863  ICICI LOMBARD GENERAL INSURANCE Q NET PROFIT B...    positive\n",
       "1864  ICICI Bank violates norms relating to Loans an...    positive\n",
       "1865  RBI issues penalties worth cr to ICICI Bank an...    positive\n",
       "1866  I have already sent my contact number Note tha...    negative\n",
       "1867                                              ICICI    positive\n",
       "\n",
       "[1868 rows x 2 columns]"
      ]
     },
     "execution_count": 202,
     "metadata": {},
     "output_type": "execute_result"
    }
   ],
   "source": [
    "df"
   ]
  },
  {
   "cell_type": "code",
   "execution_count": 203,
   "id": "49835fd0-81d0-4d15-ba07-8a8940f54ee1",
   "metadata": {},
   "outputs": [
    {
     "data": {
      "text/plain": [
       "0       IBN Stock Earnings ICICI Bank Reported Results...\n",
       "1          IBN Stock Earnings ICICI Bank Beats EPS for Q \n",
       "2           Asian Countries with the Best Quality of Life\n",
       "3       Zacks Industry Outlook Highlights Mitsubishi U...\n",
       "4       Higher Rates to Aid HSBCs Q Earnings IB Tradin...\n",
       "                              ...                        \n",
       "1863    ICICI LOMBARD GENERAL INSURANCE Q NET PROFIT B...\n",
       "1864    ICICI Bank violates norms relating to Loans an...\n",
       "1865    RBI issues penalties worth cr to ICICI Bank an...\n",
       "1866    I have already sent my contact number Note tha...\n",
       "1867                                                ICICI\n",
       "Name: tweet_text, Length: 1868, dtype: object"
      ]
     },
     "execution_count": 203,
     "metadata": {},
     "output_type": "execute_result"
    }
   ],
   "source": [
    "df['tweet_text']"
   ]
  },
  {
   "cell_type": "code",
   "execution_count": 204,
   "id": "3312eaa9-90ff-4b89-8434-a8f00d884bf5",
   "metadata": {},
   "outputs": [],
   "source": [
    "import string"
   ]
  },
  {
   "cell_type": "code",
   "execution_count": 205,
   "id": "69a02e7b-526c-48a4-8eed-4455195ee30c",
   "metadata": {},
   "outputs": [],
   "source": [
    "punct = string.punctuation"
   ]
  },
  {
   "cell_type": "code",
   "execution_count": 206,
   "id": "ede0e556-5b6f-4d9d-af31-448c2887da1d",
   "metadata": {},
   "outputs": [
    {
     "data": {
      "text/plain": [
       "'!\"#$%&\\'()*+,-./:;<=>?@[\\\\]^_`{|}~'"
      ]
     },
     "execution_count": 206,
     "metadata": {},
     "output_type": "execute_result"
    }
   ],
   "source": [
    "punct"
   ]
  },
  {
   "cell_type": "code",
   "execution_count": 207,
   "id": "e1a17a8b-0f64-4be0-9ae9-bd3d9beeb1ec",
   "metadata": {},
   "outputs": [],
   "source": [
    "from spacy.lang.en.stop_words import STOP_WORDS"
   ]
  },
  {
   "cell_type": "code",
   "execution_count": 208,
   "id": "5583d084-fb15-4803-8f5c-eb7203454aa8",
   "metadata": {},
   "outputs": [],
   "source": [
    "stopwords = list(STOP_WORDS) # list of stopwords"
   ]
  },
  {
   "cell_type": "code",
   "execution_count": 209,
   "id": "f9c196d0-a76a-4638-b1ee-b577025659d1",
   "metadata": {},
   "outputs": [],
   "source": [
    "# creating a function for data cleaning"
   ]
  },
  {
   "cell_type": "code",
   "execution_count": 210,
   "id": "fa9d5c74-104a-4d84-a2d2-528a1e44cd42",
   "metadata": {},
   "outputs": [],
   "source": [
    "def text_data_cleaning(sentence):\n",
    "  doc = nlp(sentence)\n",
    "\n",
    "  tokens = [] # list of tokens\n",
    "  for token in doc:\n",
    "    if token.lemma_ != \"-PRON-\":\n",
    "      temp = token.lemma_.lower().strip()\n",
    "    else:\n",
    "      temp = token.lower_\n",
    "    tokens.append(temp)\n",
    " \n",
    "  cleaned_tokens = []\n",
    "  for token in tokens:\n",
    "    if token not in stopwords and token not in punct:\n",
    "      cleaned_tokens.append(token)\n",
    "  return cleaned_tokens"
   ]
  },
  {
   "cell_type": "code",
   "execution_count": 211,
   "id": "5b3a9700-c3ef-45a1-a0d9-1de6ddf8093f",
   "metadata": {},
   "outputs": [],
   "source": [
    "# if root form of that word is not pronoun then it is going to convert that into lower form\n",
    "# and if that word is a proper noun, then we are directly taking lower form, because there is no lemma for proper noun"
   ]
  },
  {
   "cell_type": "code",
   "execution_count": 212,
   "id": "3da41ae7-1185-4de0-b9a3-888bddd2bc61",
   "metadata": {},
   "outputs": [
    {
     "data": {
      "text/plain": [
       "['hello', 'beautiful', 'day', 'outside']"
      ]
     },
     "execution_count": 212,
     "metadata": {},
     "output_type": "execute_result"
    }
   ],
   "source": [
    "text_data_cleaning(\"Hello all, It's a beautiful day outside there!\")\n",
    "# stopwords and punctuations removed"
   ]
  },
  {
   "cell_type": "code",
   "execution_count": 213,
   "id": "869106a3-9690-4ac5-98ce-9e7fc037d36c",
   "metadata": {},
   "outputs": [],
   "source": [
    "df['tweet_text'] = df['tweet_text'].apply(text_data_cleaning)"
   ]
  },
  {
   "cell_type": "code",
   "execution_count": 214,
   "id": "ec9b8c61-a09b-4acf-a20e-c45b47edcb07",
   "metadata": {},
   "outputs": [
    {
     "data": {
      "text/plain": [
       "0       [ibn, stock, earnings, icici, bank, report, re...\n",
       "1       [ibn, stock, earnings, icici, bank, beats, eps...\n",
       "2                 [asian, countries, best, quality, life]\n",
       "3       [zacks, industry, outlook, highlights, mitsubi...\n",
       "4       [high, rate, aid, hsbcs, q, earnings, ib, trad...\n",
       "                              ...                        \n",
       "1863    [icici, lombard, general, insurance, q, net, p...\n",
       "1864    [icici, bank, violate, norm, relate, loans, ad...\n",
       "1865    [rbi, issue, penalty, worth, cr, icici, bank, ...\n",
       "1866    [send, contact, number, note, issue, fraudulen...\n",
       "1867                                              [icici]\n",
       "Name: tweet_text, Length: 1868, dtype: object"
      ]
     },
     "execution_count": 214,
     "metadata": {},
     "output_type": "execute_result"
    }
   ],
   "source": [
    "df['tweet_text']"
   ]
  },
  {
   "cell_type": "code",
   "execution_count": 215,
   "id": "cdc0ec42-c105-47f2-86bb-766a7ebd6234",
   "metadata": {},
   "outputs": [],
   "source": [
    "# Perform Stemming\n",
    "from nltk.stem.porter import PorterStemmer\n",
    "ps = PorterStemmer()"
   ]
  },
  {
   "cell_type": "code",
   "execution_count": 216,
   "id": "320ac05b-cf1f-4c13-ac3d-fabe18acd8a6",
   "metadata": {},
   "outputs": [],
   "source": [
    "y = []\n",
    "def stem_words(text):\n",
    "    for i in text:\n",
    "        y.append(ps.stem(i))\n",
    "    z=y[:]\n",
    "    y.clear()\n",
    "    return z\n",
    "    "
   ]
  },
  {
   "cell_type": "code",
   "execution_count": 217,
   "id": "2145cb57-bc0b-47ec-9de2-6526875bac18",
   "metadata": {},
   "outputs": [],
   "source": [
    "df['tweet_text'] = df['tweet_text'].apply(stem_words)"
   ]
  },
  {
   "cell_type": "code",
   "execution_count": 218,
   "id": "1f1c8a89-9206-40a1-aa7c-c6950fb59da4",
   "metadata": {},
   "outputs": [],
   "source": [
    "def join_back(list_input):\n",
    "    return \" \".join(list_input)"
   ]
  },
  {
   "cell_type": "code",
   "execution_count": 219,
   "id": "92fbca0e-27e3-49c1-8e36-5478efa66c5e",
   "metadata": {},
   "outputs": [],
   "source": [
    "df['tweet_text'] = df['tweet_text'].apply(join_back)"
   ]
  },
  {
   "cell_type": "code",
   "execution_count": 220,
   "id": "45bc0598-2354-4716-b791-c5153507d19a",
   "metadata": {},
   "outputs": [
    {
     "data": {
      "text/plain": [
       "0               ibn stock earn icici bank report result q\n",
       "1                     ibn stock earn icici bank beat ep q\n",
       "2                         asian countri best qualiti life\n",
       "3       zack industri outlook highlight mitsubishi ufj...\n",
       "4                 high rate aid hsbc q earn ib trade hurt\n",
       "                              ...                        \n",
       "1863    icici lombard gener insur q net profit b vs b ...\n",
       "1864    icici bank violat norm relat loan advanc rbi i...\n",
       "1865    rbi issu penalti worth cr icici bank kotak mah...\n",
       "1866    send contact number note issu fraudul debit ac...\n",
       "1867                                                icici\n",
       "Name: tweet_text, Length: 1868, dtype: object"
      ]
     },
     "execution_count": 220,
     "metadata": {},
     "output_type": "execute_result"
    }
   ],
   "source": [
    "df['tweet_text']"
   ]
  },
  {
   "cell_type": "code",
   "execution_count": 221,
   "id": "91481bb1-93fe-4729-b5fe-582e9c8fc078",
   "metadata": {},
   "outputs": [
    {
     "data": {
      "text/html": [
       "<div>\n",
       "<style scoped>\n",
       "    .dataframe tbody tr th:only-of-type {\n",
       "        vertical-align: middle;\n",
       "    }\n",
       "\n",
       "    .dataframe tbody tr th {\n",
       "        vertical-align: top;\n",
       "    }\n",
       "\n",
       "    .dataframe thead th {\n",
       "        text-align: right;\n",
       "    }\n",
       "</style>\n",
       "<table border=\"1\" class=\"dataframe\">\n",
       "  <thead>\n",
       "    <tr style=\"text-align: right;\">\n",
       "      <th></th>\n",
       "      <th>tweet_text</th>\n",
       "      <th>Azure label</th>\n",
       "    </tr>\n",
       "  </thead>\n",
       "  <tbody>\n",
       "    <tr>\n",
       "      <th>0</th>\n",
       "      <td>ibn stock earn icici bank report result q</td>\n",
       "      <td>positive</td>\n",
       "    </tr>\n",
       "    <tr>\n",
       "      <th>1</th>\n",
       "      <td>ibn stock earn icici bank beat ep q</td>\n",
       "      <td>positive</td>\n",
       "    </tr>\n",
       "    <tr>\n",
       "      <th>2</th>\n",
       "      <td>asian countri best qualiti life</td>\n",
       "      <td>positive</td>\n",
       "    </tr>\n",
       "    <tr>\n",
       "      <th>3</th>\n",
       "      <td>zack industri outlook highlight mitsubishi ufj...</td>\n",
       "      <td>positive</td>\n",
       "    </tr>\n",
       "    <tr>\n",
       "      <th>4</th>\n",
       "      <td>high rate aid hsbc q earn ib trade hurt</td>\n",
       "      <td>neutral</td>\n",
       "    </tr>\n",
       "    <tr>\n",
       "      <th>...</th>\n",
       "      <td>...</td>\n",
       "      <td>...</td>\n",
       "    </tr>\n",
       "    <tr>\n",
       "      <th>1863</th>\n",
       "      <td>icici lombard gener insur q net profit b vs b ...</td>\n",
       "      <td>positive</td>\n",
       "    </tr>\n",
       "    <tr>\n",
       "      <th>1864</th>\n",
       "      <td>icici bank violat norm relat loan advanc rbi i...</td>\n",
       "      <td>positive</td>\n",
       "    </tr>\n",
       "    <tr>\n",
       "      <th>1865</th>\n",
       "      <td>rbi issu penalti worth cr icici bank kotak mah...</td>\n",
       "      <td>positive</td>\n",
       "    </tr>\n",
       "    <tr>\n",
       "      <th>1866</th>\n",
       "      <td>send contact number note issu fraudul debit ac...</td>\n",
       "      <td>negative</td>\n",
       "    </tr>\n",
       "    <tr>\n",
       "      <th>1867</th>\n",
       "      <td>icici</td>\n",
       "      <td>positive</td>\n",
       "    </tr>\n",
       "  </tbody>\n",
       "</table>\n",
       "<p>1868 rows × 2 columns</p>\n",
       "</div>"
      ],
      "text/plain": [
       "                                             tweet_text Azure label\n",
       "0             ibn stock earn icici bank report result q    positive\n",
       "1                   ibn stock earn icici bank beat ep q    positive\n",
       "2                       asian countri best qualiti life    positive\n",
       "3     zack industri outlook highlight mitsubishi ufj...    positive\n",
       "4               high rate aid hsbc q earn ib trade hurt     neutral\n",
       "...                                                 ...         ...\n",
       "1863  icici lombard gener insur q net profit b vs b ...    positive\n",
       "1864  icici bank violat norm relat loan advanc rbi i...    positive\n",
       "1865  rbi issu penalti worth cr icici bank kotak mah...    positive\n",
       "1866  send contact number note issu fraudul debit ac...    negative\n",
       "1867                                              icici    positive\n",
       "\n",
       "[1868 rows x 2 columns]"
      ]
     },
     "execution_count": 221,
     "metadata": {},
     "output_type": "execute_result"
    }
   ],
   "source": [
    "# This is the clean and processed data.\n",
    "df"
   ]
  },
  {
   "cell_type": "code",
   "execution_count": 222,
   "id": "c382cfb3-0689-4582-bb73-4a245c76d4bf",
   "metadata": {},
   "outputs": [],
   "source": [
    "# Bag of Words Model (Feature Extraction)\n",
    "#Countvectorizer\n",
    "#TF-IDF Vectorizer"
   ]
  },
  {
   "cell_type": "code",
   "execution_count": 223,
   "id": "5800ba3a-1d8e-4d68-99cf-bacb6bd2fc26",
   "metadata": {},
   "outputs": [
    {
     "data": {
      "text/plain": [
       "(1868, 2)"
      ]
     },
     "execution_count": 223,
     "metadata": {},
     "output_type": "execute_result"
    }
   ],
   "source": [
    "df.shape"
   ]
  },
  {
   "cell_type": "code",
   "execution_count": 224,
   "id": "a08493ee-c2e7-41e5-9448-052e3716e8a2",
   "metadata": {},
   "outputs": [],
   "source": [
    "from sklearn.feature_extraction.text import CountVectorizer\n",
    "\n",
    "CV = CountVectorizer()\n",
    "CV_features = CV.fit_transform(df['tweet_text'])"
   ]
  },
  {
   "cell_type": "code",
   "execution_count": 225,
   "id": "ed9771e8-66ff-49a0-9873-084755a08299",
   "metadata": {},
   "outputs": [
    {
     "data": {
      "text/plain": [
       "(1868, 4375)"
      ]
     },
     "execution_count": 225,
     "metadata": {},
     "output_type": "execute_result"
    }
   ],
   "source": [
    "CV_features.shape"
   ]
  },
  {
   "cell_type": "code",
   "execution_count": 226,
   "id": "6e3f9843-4871-461c-901e-6d54b8a88a1e",
   "metadata": {},
   "outputs": [
    {
     "data": {
      "text/plain": [
       "<1x4375 sparse matrix of type '<class 'numpy.int64'>'\n",
       "\twith 7 stored elements in Compressed Sparse Row format>"
      ]
     },
     "execution_count": 226,
     "metadata": {},
     "output_type": "execute_result"
    }
   ],
   "source": [
    "CV_features[0]"
   ]
  },
  {
   "cell_type": "code",
   "execution_count": 227,
   "id": "9700cc7f-717e-4036-8542-be13912ee66b",
   "metadata": {},
   "outputs": [
    {
     "data": {
      "text/plain": [
       "scipy.sparse._csr.csr_matrix"
      ]
     },
     "execution_count": 227,
     "metadata": {},
     "output_type": "execute_result"
    }
   ],
   "source": [
    "type(CV_features[0])  # each row is a compressed spare row "
   ]
  },
  {
   "cell_type": "code",
   "execution_count": 174,
   "id": "8840ad80-fd3b-494e-8434-52a058994f20",
   "metadata": {},
   "outputs": [
    {
     "data": {
      "text/plain": [
       "matrix([[0, 0, 0, ..., 0, 0, 0]], dtype=int64)"
      ]
     },
     "execution_count": 174,
     "metadata": {},
     "output_type": "execute_result"
    }
   ],
   "source": [
    "CV_features[0].todense()  # decompressing the CSR data"
   ]
  },
  {
   "cell_type": "code",
   "execution_count": 228,
   "id": "6ed27054-ce02-41ed-b087-d516fb6b74f3",
   "metadata": {},
   "outputs": [
    {
     "data": {
      "text/html": [
       "<div>\n",
       "<style scoped>\n",
       "    .dataframe tbody tr th:only-of-type {\n",
       "        vertical-align: middle;\n",
       "    }\n",
       "\n",
       "    .dataframe tbody tr th {\n",
       "        vertical-align: top;\n",
       "    }\n",
       "\n",
       "    .dataframe thead th {\n",
       "        text-align: right;\n",
       "    }\n",
       "</style>\n",
       "<table border=\"1\" class=\"dataframe\">\n",
       "  <thead>\n",
       "    <tr style=\"text-align: right;\">\n",
       "      <th></th>\n",
       "      <th>0</th>\n",
       "      <th>1</th>\n",
       "      <th>2</th>\n",
       "      <th>3</th>\n",
       "      <th>4</th>\n",
       "      <th>5</th>\n",
       "      <th>6</th>\n",
       "      <th>7</th>\n",
       "      <th>8</th>\n",
       "      <th>9</th>\n",
       "      <th>...</th>\n",
       "      <th>4365</th>\n",
       "      <th>4366</th>\n",
       "      <th>4367</th>\n",
       "      <th>4368</th>\n",
       "      <th>4369</th>\n",
       "      <th>4370</th>\n",
       "      <th>4371</th>\n",
       "      <th>4372</th>\n",
       "      <th>4373</th>\n",
       "      <th>4374</th>\n",
       "    </tr>\n",
       "  </thead>\n",
       "  <tbody>\n",
       "    <tr>\n",
       "      <th>0</th>\n",
       "      <td>0</td>\n",
       "      <td>0</td>\n",
       "      <td>0</td>\n",
       "      <td>0</td>\n",
       "      <td>0</td>\n",
       "      <td>0</td>\n",
       "      <td>0</td>\n",
       "      <td>0</td>\n",
       "      <td>0</td>\n",
       "      <td>0</td>\n",
       "      <td>...</td>\n",
       "      <td>0</td>\n",
       "      <td>0</td>\n",
       "      <td>0</td>\n",
       "      <td>0</td>\n",
       "      <td>0</td>\n",
       "      <td>0</td>\n",
       "      <td>0</td>\n",
       "      <td>0</td>\n",
       "      <td>0</td>\n",
       "      <td>0</td>\n",
       "    </tr>\n",
       "    <tr>\n",
       "      <th>1</th>\n",
       "      <td>0</td>\n",
       "      <td>0</td>\n",
       "      <td>0</td>\n",
       "      <td>0</td>\n",
       "      <td>0</td>\n",
       "      <td>0</td>\n",
       "      <td>0</td>\n",
       "      <td>0</td>\n",
       "      <td>0</td>\n",
       "      <td>0</td>\n",
       "      <td>...</td>\n",
       "      <td>0</td>\n",
       "      <td>0</td>\n",
       "      <td>0</td>\n",
       "      <td>0</td>\n",
       "      <td>0</td>\n",
       "      <td>0</td>\n",
       "      <td>0</td>\n",
       "      <td>0</td>\n",
       "      <td>0</td>\n",
       "      <td>0</td>\n",
       "    </tr>\n",
       "    <tr>\n",
       "      <th>2</th>\n",
       "      <td>0</td>\n",
       "      <td>0</td>\n",
       "      <td>0</td>\n",
       "      <td>0</td>\n",
       "      <td>0</td>\n",
       "      <td>0</td>\n",
       "      <td>0</td>\n",
       "      <td>0</td>\n",
       "      <td>0</td>\n",
       "      <td>0</td>\n",
       "      <td>...</td>\n",
       "      <td>0</td>\n",
       "      <td>0</td>\n",
       "      <td>0</td>\n",
       "      <td>0</td>\n",
       "      <td>0</td>\n",
       "      <td>0</td>\n",
       "      <td>0</td>\n",
       "      <td>0</td>\n",
       "      <td>0</td>\n",
       "      <td>0</td>\n",
       "    </tr>\n",
       "    <tr>\n",
       "      <th>3</th>\n",
       "      <td>0</td>\n",
       "      <td>0</td>\n",
       "      <td>0</td>\n",
       "      <td>0</td>\n",
       "      <td>0</td>\n",
       "      <td>0</td>\n",
       "      <td>0</td>\n",
       "      <td>0</td>\n",
       "      <td>0</td>\n",
       "      <td>0</td>\n",
       "      <td>...</td>\n",
       "      <td>0</td>\n",
       "      <td>0</td>\n",
       "      <td>0</td>\n",
       "      <td>0</td>\n",
       "      <td>0</td>\n",
       "      <td>0</td>\n",
       "      <td>0</td>\n",
       "      <td>0</td>\n",
       "      <td>0</td>\n",
       "      <td>0</td>\n",
       "    </tr>\n",
       "    <tr>\n",
       "      <th>4</th>\n",
       "      <td>0</td>\n",
       "      <td>0</td>\n",
       "      <td>0</td>\n",
       "      <td>0</td>\n",
       "      <td>0</td>\n",
       "      <td>0</td>\n",
       "      <td>0</td>\n",
       "      <td>0</td>\n",
       "      <td>0</td>\n",
       "      <td>0</td>\n",
       "      <td>...</td>\n",
       "      <td>0</td>\n",
       "      <td>0</td>\n",
       "      <td>0</td>\n",
       "      <td>0</td>\n",
       "      <td>0</td>\n",
       "      <td>0</td>\n",
       "      <td>0</td>\n",
       "      <td>0</td>\n",
       "      <td>0</td>\n",
       "      <td>0</td>\n",
       "    </tr>\n",
       "    <tr>\n",
       "      <th>...</th>\n",
       "      <td>...</td>\n",
       "      <td>...</td>\n",
       "      <td>...</td>\n",
       "      <td>...</td>\n",
       "      <td>...</td>\n",
       "      <td>...</td>\n",
       "      <td>...</td>\n",
       "      <td>...</td>\n",
       "      <td>...</td>\n",
       "      <td>...</td>\n",
       "      <td>...</td>\n",
       "      <td>...</td>\n",
       "      <td>...</td>\n",
       "      <td>...</td>\n",
       "      <td>...</td>\n",
       "      <td>...</td>\n",
       "      <td>...</td>\n",
       "      <td>...</td>\n",
       "      <td>...</td>\n",
       "      <td>...</td>\n",
       "      <td>...</td>\n",
       "    </tr>\n",
       "    <tr>\n",
       "      <th>1863</th>\n",
       "      <td>0</td>\n",
       "      <td>0</td>\n",
       "      <td>0</td>\n",
       "      <td>0</td>\n",
       "      <td>0</td>\n",
       "      <td>0</td>\n",
       "      <td>0</td>\n",
       "      <td>0</td>\n",
       "      <td>0</td>\n",
       "      <td>0</td>\n",
       "      <td>...</td>\n",
       "      <td>0</td>\n",
       "      <td>0</td>\n",
       "      <td>0</td>\n",
       "      <td>0</td>\n",
       "      <td>0</td>\n",
       "      <td>0</td>\n",
       "      <td>0</td>\n",
       "      <td>0</td>\n",
       "      <td>0</td>\n",
       "      <td>0</td>\n",
       "    </tr>\n",
       "    <tr>\n",
       "      <th>1864</th>\n",
       "      <td>0</td>\n",
       "      <td>0</td>\n",
       "      <td>0</td>\n",
       "      <td>0</td>\n",
       "      <td>0</td>\n",
       "      <td>0</td>\n",
       "      <td>0</td>\n",
       "      <td>0</td>\n",
       "      <td>0</td>\n",
       "      <td>0</td>\n",
       "      <td>...</td>\n",
       "      <td>0</td>\n",
       "      <td>0</td>\n",
       "      <td>0</td>\n",
       "      <td>0</td>\n",
       "      <td>0</td>\n",
       "      <td>0</td>\n",
       "      <td>0</td>\n",
       "      <td>0</td>\n",
       "      <td>0</td>\n",
       "      <td>0</td>\n",
       "    </tr>\n",
       "    <tr>\n",
       "      <th>1865</th>\n",
       "      <td>0</td>\n",
       "      <td>0</td>\n",
       "      <td>0</td>\n",
       "      <td>0</td>\n",
       "      <td>0</td>\n",
       "      <td>0</td>\n",
       "      <td>0</td>\n",
       "      <td>0</td>\n",
       "      <td>0</td>\n",
       "      <td>0</td>\n",
       "      <td>...</td>\n",
       "      <td>0</td>\n",
       "      <td>0</td>\n",
       "      <td>0</td>\n",
       "      <td>0</td>\n",
       "      <td>0</td>\n",
       "      <td>0</td>\n",
       "      <td>0</td>\n",
       "      <td>0</td>\n",
       "      <td>0</td>\n",
       "      <td>0</td>\n",
       "    </tr>\n",
       "    <tr>\n",
       "      <th>1866</th>\n",
       "      <td>0</td>\n",
       "      <td>0</td>\n",
       "      <td>0</td>\n",
       "      <td>0</td>\n",
       "      <td>0</td>\n",
       "      <td>0</td>\n",
       "      <td>0</td>\n",
       "      <td>0</td>\n",
       "      <td>0</td>\n",
       "      <td>0</td>\n",
       "      <td>...</td>\n",
       "      <td>0</td>\n",
       "      <td>0</td>\n",
       "      <td>0</td>\n",
       "      <td>0</td>\n",
       "      <td>0</td>\n",
       "      <td>0</td>\n",
       "      <td>0</td>\n",
       "      <td>0</td>\n",
       "      <td>0</td>\n",
       "      <td>0</td>\n",
       "    </tr>\n",
       "    <tr>\n",
       "      <th>1867</th>\n",
       "      <td>0</td>\n",
       "      <td>0</td>\n",
       "      <td>0</td>\n",
       "      <td>0</td>\n",
       "      <td>0</td>\n",
       "      <td>0</td>\n",
       "      <td>0</td>\n",
       "      <td>0</td>\n",
       "      <td>0</td>\n",
       "      <td>0</td>\n",
       "      <td>...</td>\n",
       "      <td>0</td>\n",
       "      <td>0</td>\n",
       "      <td>0</td>\n",
       "      <td>0</td>\n",
       "      <td>0</td>\n",
       "      <td>0</td>\n",
       "      <td>0</td>\n",
       "      <td>0</td>\n",
       "      <td>0</td>\n",
       "      <td>0</td>\n",
       "    </tr>\n",
       "  </tbody>\n",
       "</table>\n",
       "<p>1868 rows × 4375 columns</p>\n",
       "</div>"
      ],
      "text/plain": [
       "      0     1     2     3     4     5     6     7     8     9     ...  4365  \\\n",
       "0        0     0     0     0     0     0     0     0     0     0  ...     0   \n",
       "1        0     0     0     0     0     0     0     0     0     0  ...     0   \n",
       "2        0     0     0     0     0     0     0     0     0     0  ...     0   \n",
       "3        0     0     0     0     0     0     0     0     0     0  ...     0   \n",
       "4        0     0     0     0     0     0     0     0     0     0  ...     0   \n",
       "...    ...   ...   ...   ...   ...   ...   ...   ...   ...   ...  ...   ...   \n",
       "1863     0     0     0     0     0     0     0     0     0     0  ...     0   \n",
       "1864     0     0     0     0     0     0     0     0     0     0  ...     0   \n",
       "1865     0     0     0     0     0     0     0     0     0     0  ...     0   \n",
       "1866     0     0     0     0     0     0     0     0     0     0  ...     0   \n",
       "1867     0     0     0     0     0     0     0     0     0     0  ...     0   \n",
       "\n",
       "      4366  4367  4368  4369  4370  4371  4372  4373  4374  \n",
       "0        0     0     0     0     0     0     0     0     0  \n",
       "1        0     0     0     0     0     0     0     0     0  \n",
       "2        0     0     0     0     0     0     0     0     0  \n",
       "3        0     0     0     0     0     0     0     0     0  \n",
       "4        0     0     0     0     0     0     0     0     0  \n",
       "...    ...   ...   ...   ...   ...   ...   ...   ...   ...  \n",
       "1863     0     0     0     0     0     0     0     0     0  \n",
       "1864     0     0     0     0     0     0     0     0     0  \n",
       "1865     0     0     0     0     0     0     0     0     0  \n",
       "1866     0     0     0     0     0     0     0     0     0  \n",
       "1867     0     0     0     0     0     0     0     0     0  \n",
       "\n",
       "[1868 rows x 4375 columns]"
      ]
     },
     "execution_count": 228,
     "metadata": {},
     "output_type": "execute_result"
    }
   ],
   "source": [
    "import pandas as pd\n",
    "df1 = pd.DataFrame(CV_features.todense() )\n",
    "df1\n",
    "# Document-Term-Matrix X = [N x p ]\n",
    "# N = no. of documentns\n",
    "# p = no. of unique words in the vocab!!# this is your D"
   ]
  },
  {
   "cell_type": "code",
   "execution_count": 229,
   "id": "7e1ef101-e9ac-4afc-bc7d-56816c196206",
   "metadata": {},
   "outputs": [
    {
     "data": {
      "text/plain": [
       "8.1725"
      ]
     },
     "execution_count": 229,
     "metadata": {},
     "output_type": "execute_result"
    }
   ],
   "source": [
    "df1.size/1e6  # these many elements/numbers are presnt in the df"
   ]
  },
  {
   "cell_type": "code",
   "execution_count": 230,
   "id": "6eaee707-aff6-4fb5-b5ba-9af46e03020e",
   "metadata": {},
   "outputs": [
    {
     "data": {
      "text/plain": [
       "27194"
      ]
     },
     "execution_count": 230,
     "metadata": {},
     "output_type": "execute_result"
    }
   ],
   "source": [
    "import numpy as np\n",
    "np.count_nonzero(df1)"
   ]
  },
  {
   "cell_type": "code",
   "execution_count": 231,
   "id": "2ebc2f90-edd7-4ca0-ac67-ec6948c3fc0d",
   "metadata": {},
   "outputs": [
    {
     "data": {
      "text/plain": [
       "0.33275007647598653"
      ]
     },
     "execution_count": 231,
     "metadata": {},
     "output_type": "execute_result"
    }
   ],
   "source": [
    "100*np.count_nonzero(df1)/df1.size # percent of the non-zero elements i nthe df"
   ]
  },
  {
   "cell_type": "code",
   "execution_count": 232,
   "id": "19c7e327-cfb0-4507-9b47-64b13e402588",
   "metadata": {},
   "outputs": [
    {
     "name": "stdout",
     "output_type": "stream",
     "text": [
      "['aadhaar' 'aag' 'aajnew' 'aajtak' 'aakhi' 'aarti' 'aaya' 'abhi' 'abil'\n",
      " 'abl' 'ablew' 'abpananda' 'abpliv' 'abpnew' 'abruptli' 'absl' 'abslmf'\n",
      " 'absolut' 'abt' 'ac' 'acc' 'accentur' 'accept' 'access' 'accord'\n",
      " 'account' 'accountabsurd' 'accountbut' 'accountyatra' 'acct' 'accumul'\n",
      " 'accur' 'accuraci' 'accus' 'acer' 'achiev' 'acknowledg' 'acno' 'acquir'\n",
      " 'acquisit' 'acro' 'act' 'action' 'activ' 'activis' 'activist' 'actual'\n",
      " 'acuman' 'ad' 'ada']\n"
     ]
    }
   ],
   "source": [
    "#print(CV.get_feature_names()[:50])  # these the vocab words\n",
    "print(CV.get_feature_names_out()[:50])"
   ]
  },
  {
   "cell_type": "code",
   "execution_count": 233,
   "id": "9bcd83e5-8722-42b0-85d8-b1526d9bce23",
   "metadata": {},
   "outputs": [
    {
     "data": {
      "text/plain": [
       "4375"
      ]
     },
     "execution_count": 233,
     "metadata": {},
     "output_type": "execute_result"
    }
   ],
   "source": [
    "# len(CV.get_feature_names_out())\n",
    "len(CV.get_feature_names_out())"
   ]
  },
  {
   "cell_type": "code",
   "execution_count": 234,
   "id": "b0d8bc1d-7177-460e-8261-208a005a6d45",
   "metadata": {},
   "outputs": [
    {
     "data": {
      "text/plain": [
       "matrix([[0, 0, 0, ..., 0, 0, 0]], dtype=int64)"
      ]
     },
     "execution_count": 234,
     "metadata": {},
     "output_type": "execute_result"
    }
   ],
   "source": [
    "CV_features[10].todense()  # these are numbers corresponding to the 11th tweet"
   ]
  },
  {
   "cell_type": "code",
   "execution_count": 235,
   "id": "6549c54f-3dcb-4c9b-b076-05762b4f5076",
   "metadata": {},
   "outputs": [
    {
     "data": {
      "text/plain": [
       "[array(['amid', 'bank', 'cost', 'high', 'ibn', 'icici', 'loan', 'rate',\n",
       "        'ride', 'woe'], dtype='<U104')]"
      ]
     },
     "execution_count": 235,
     "metadata": {},
     "output_type": "execute_result"
    }
   ],
   "source": [
    "CV.inverse_transform(np.asarray(CV_features[10].todense()))  # actual words in the 10th tweet"
   ]
  },
  {
   "cell_type": "code",
   "execution_count": 236,
   "id": "df3217d6-2e70-47f9-8f27-707a1872443a",
   "metadata": {},
   "outputs": [],
   "source": [
    "# 5. Model building"
   ]
  },
  {
   "cell_type": "code",
   "execution_count": 237,
   "id": "8908d648-4a65-4712-abf5-80f874bd7e32",
   "metadata": {},
   "outputs": [],
   "source": [
    "from sklearn.model_selection import train_test_split\n",
    "\n",
    "X_train, X_test, y_train, y_test = train_test_split(CV_features, df['Azure label'], test_size=0.25, stratify=df['Azure label'], random_state=42)"
   ]
  },
  {
   "cell_type": "code",
   "execution_count": 238,
   "id": "1f93343d-cf16-4b55-ac29-e3989e7fa006",
   "metadata": {},
   "outputs": [
    {
     "name": "stdout",
     "output_type": "stream",
     "text": [
      "0.9735902926481085\n",
      "0.7794432548179872\n"
     ]
    }
   ],
   "source": [
    "from sklearn.linear_model import LogisticRegression\n",
    "LR = LogisticRegression(solver='liblinear')\n",
    "LR.fit(X_train, y_train)\n",
    "\n",
    "print(LR.score(X_train, y_train))  # train score)\n",
    "print(LR.score(X_test, y_test))   # test score)   "
   ]
  },
  {
   "cell_type": "code",
   "execution_count": 239,
   "id": "656184bd-954f-4529-99fa-555ef6adf00a",
   "metadata": {},
   "outputs": [
    {
     "name": "stdout",
     "output_type": "stream",
     "text": [
      "0.820842255531763\n",
      "0.7944325481798715\n"
     ]
    }
   ],
   "source": [
    "## L1-REGULARIZATION\n",
    "LR1 = LogisticRegression(class_weight='balanced', solver='liblinear', penalty='l1', C=0.4)\n",
    "LR1.fit(X_train, y_train)\n",
    "\n",
    "print(LR1.score(X_train, y_train))  # train score)\n",
    "print(LR1.score(X_test, y_test))   # test score)  "
   ]
  },
  {
   "cell_type": "code",
   "execution_count": 240,
   "id": "af05837b-a2cf-44ee-85d5-47da57b4cd6d",
   "metadata": {},
   "outputs": [],
   "source": [
    "## leT'S Cross-Validate the Logistic Regression Model ?????\n",
    "from sklearn.model_selection import cross_val_score, cross_validate\n",
    "from sklearn.model_selection import StratifiedKFold"
   ]
  },
  {
   "cell_type": "code",
   "execution_count": 242,
   "id": "685375e9-b577-49f0-9d48-0b9ec0ac84f5",
   "metadata": {},
   "outputs": [],
   "source": [
    "X = CV_features\n",
    "y = df['Azure label']"
   ]
  },
  {
   "cell_type": "code",
   "execution_count": 243,
   "id": "0f0d00ea-d2c8-40d1-93f4-484226f08ae3",
   "metadata": {},
   "outputs": [
    {
     "name": "stdout",
     "output_type": "stream",
     "text": [
      "[0.78342246 0.78609626 0.77272727 0.71849866 0.76675603]\n",
      "76.55 2.45\n"
     ]
    }
   ],
   "source": [
    "## crOSS VALIDATE THE LR1 model\n",
    "\n",
    "LR1 = LogisticRegression(class_weight='balanced', solver='liblinear', penalty='l1', C=0.4)\n",
    "kfold = StratifiedKFold(n_splits=5, shuffle=True, random_state=42)\n",
    "results = cross_val_score(LR1, X, y, cv=kfold, scoring='accuracy')\n",
    "print(results)\n",
    "print(np.round((results.mean())*100, 2), np.round((results.std())*100, 2)) "
   ]
  },
  {
   "cell_type": "code",
   "execution_count": 244,
   "id": "bfc74ad0-73df-4aef-9ce5-dbbca8e7dd1a",
   "metadata": {},
   "outputs": [],
   "source": [
    "kfold = StratifiedKFold(n_splits=5, shuffle=True, random_state=42)\n",
    "results = cross_validate(LR1, X, y, cv=kfold, scoring='accuracy', return_train_score=True)"
   ]
  },
  {
   "cell_type": "code",
   "execution_count": 245,
   "id": "e2597f1a-754e-4bd6-8335-95379c979ab3",
   "metadata": {},
   "outputs": [
    {
     "data": {
      "text/plain": [
       "{'fit_time': array([0.01035285, 0.01099706, 0.00897908, 0.00999808, 0.00899673]),\n",
       " 'score_time': array([0.        , 0.        , 0.00100088, 0.        , 0.        ]),\n",
       " 'test_score': array([0.78342246, 0.78609626, 0.77272727, 0.71849866, 0.76675603]),\n",
       " 'train_score': array([0.8206158 , 0.81994645, 0.82128514, 0.82541806, 0.83344482])}"
      ]
     },
     "execution_count": 245,
     "metadata": {},
     "output_type": "execute_result"
    }
   ],
   "source": [
    "results"
   ]
  },
  {
   "cell_type": "code",
   "execution_count": 246,
   "id": "9baa4b7e-5c8e-43e3-b31d-406612f06e5f",
   "metadata": {},
   "outputs": [
    {
     "name": "stdout",
     "output_type": "stream",
     "text": [
      "[0.8206158  0.81994645 0.82128514 0.82541806 0.83344482]\n",
      "82.41 0.5\n"
     ]
    }
   ],
   "source": [
    "print(results['train_score'])\n",
    "print(np.round((results['train_score'].mean())*100, 2), np.round((results['train_score'].std())*100, 2)) "
   ]
  },
  {
   "cell_type": "code",
   "execution_count": 247,
   "id": "f6524137-0889-4ad7-946d-6da8764eac25",
   "metadata": {},
   "outputs": [
    {
     "name": "stdout",
     "output_type": "stream",
     "text": [
      "[0.78342246 0.78609626 0.77272727 0.71849866 0.76675603]\n",
      "76.55 2.45\n"
     ]
    }
   ],
   "source": [
    "print(results['test_score'])\n",
    "print(np.round((results['test_score'].mean())*100, 2), np.round((results['test_score'].std())*100, 2)) "
   ]
  },
  {
   "cell_type": "code",
   "execution_count": 250,
   "id": "915d32a6-8b2f-4430-b27b-db0d22317873",
   "metadata": {},
   "outputs": [
    {
     "name": "stdout",
     "output_type": "stream",
     "text": [
      "76.5 2.42\n"
     ]
    }
   ],
   "source": [
    "# Create a pipeline & cross-validate\n",
    "from sklearn.pipeline import make_pipeline, Pipeline\n",
    "\n",
    "X = df['tweet_text']\n",
    "y = df['Azure label']\n",
    "\n",
    "CV = CountVectorizer()\n",
    "LR1 = LogisticRegression(class_weight='balanced', solver='liblinear', penalty='l1', C=0.4)\n",
    "\n",
    "CV_pipe = Pipeline([('CV', CV) , ('LR', LR1)] )\n",
    "\n",
    "results = cross_val_score(CV_pipe, X, y, cv=kfold, scoring='accuracy')\n",
    "print(np.round((results.mean())*100, 2), np.round((results.std())*100, 2)) "
   ]
  },
  {
   "cell_type": "code",
   "execution_count": 251,
   "id": "dfd16e4a-47a3-4ad6-9461-21ca86ea931f",
   "metadata": {},
   "outputs": [
    {
     "data": {
      "text/plain": [
       "{'CV': CountVectorizer(),\n",
       " 'LR': LogisticRegression(C=0.4, class_weight='balanced', penalty='l1',\n",
       "                    solver='liblinear')}"
      ]
     },
     "execution_count": 251,
     "metadata": {},
     "output_type": "execute_result"
    }
   ],
   "source": [
    "CV_pipe.named_steps"
   ]
  },
  {
   "cell_type": "code",
   "execution_count": 252,
   "id": "1b989429-56c0-46f6-8e86-09e56dd7e48d",
   "metadata": {},
   "outputs": [
    {
     "data": {
      "text/html": [
       "<style>#sk-container-id-5 {color: black;background-color: white;}#sk-container-id-5 pre{padding: 0;}#sk-container-id-5 div.sk-toggleable {background-color: white;}#sk-container-id-5 label.sk-toggleable__label {cursor: pointer;display: block;width: 100%;margin-bottom: 0;padding: 0.3em;box-sizing: border-box;text-align: center;}#sk-container-id-5 label.sk-toggleable__label-arrow:before {content: \"▸\";float: left;margin-right: 0.25em;color: #696969;}#sk-container-id-5 label.sk-toggleable__label-arrow:hover:before {color: black;}#sk-container-id-5 div.sk-estimator:hover label.sk-toggleable__label-arrow:before {color: black;}#sk-container-id-5 div.sk-toggleable__content {max-height: 0;max-width: 0;overflow: hidden;text-align: left;background-color: #f0f8ff;}#sk-container-id-5 div.sk-toggleable__content pre {margin: 0.2em;color: black;border-radius: 0.25em;background-color: #f0f8ff;}#sk-container-id-5 input.sk-toggleable__control:checked~div.sk-toggleable__content {max-height: 200px;max-width: 100%;overflow: auto;}#sk-container-id-5 input.sk-toggleable__control:checked~label.sk-toggleable__label-arrow:before {content: \"▾\";}#sk-container-id-5 div.sk-estimator input.sk-toggleable__control:checked~label.sk-toggleable__label {background-color: #d4ebff;}#sk-container-id-5 div.sk-label input.sk-toggleable__control:checked~label.sk-toggleable__label {background-color: #d4ebff;}#sk-container-id-5 input.sk-hidden--visually {border: 0;clip: rect(1px 1px 1px 1px);clip: rect(1px, 1px, 1px, 1px);height: 1px;margin: -1px;overflow: hidden;padding: 0;position: absolute;width: 1px;}#sk-container-id-5 div.sk-estimator {font-family: monospace;background-color: #f0f8ff;border: 1px dotted black;border-radius: 0.25em;box-sizing: border-box;margin-bottom: 0.5em;}#sk-container-id-5 div.sk-estimator:hover {background-color: #d4ebff;}#sk-container-id-5 div.sk-parallel-item::after {content: \"\";width: 100%;border-bottom: 1px solid gray;flex-grow: 1;}#sk-container-id-5 div.sk-label:hover label.sk-toggleable__label {background-color: #d4ebff;}#sk-container-id-5 div.sk-serial::before {content: \"\";position: absolute;border-left: 1px solid gray;box-sizing: border-box;top: 0;bottom: 0;left: 50%;z-index: 0;}#sk-container-id-5 div.sk-serial {display: flex;flex-direction: column;align-items: center;background-color: white;padding-right: 0.2em;padding-left: 0.2em;position: relative;}#sk-container-id-5 div.sk-item {position: relative;z-index: 1;}#sk-container-id-5 div.sk-parallel {display: flex;align-items: stretch;justify-content: center;background-color: white;position: relative;}#sk-container-id-5 div.sk-item::before, #sk-container-id-5 div.sk-parallel-item::before {content: \"\";position: absolute;border-left: 1px solid gray;box-sizing: border-box;top: 0;bottom: 0;left: 50%;z-index: -1;}#sk-container-id-5 div.sk-parallel-item {display: flex;flex-direction: column;z-index: 1;position: relative;background-color: white;}#sk-container-id-5 div.sk-parallel-item:first-child::after {align-self: flex-end;width: 50%;}#sk-container-id-5 div.sk-parallel-item:last-child::after {align-self: flex-start;width: 50%;}#sk-container-id-5 div.sk-parallel-item:only-child::after {width: 0;}#sk-container-id-5 div.sk-dashed-wrapped {border: 1px dashed gray;margin: 0 0.4em 0.5em 0.4em;box-sizing: border-box;padding-bottom: 0.4em;background-color: white;}#sk-container-id-5 div.sk-label label {font-family: monospace;font-weight: bold;display: inline-block;line-height: 1.2em;}#sk-container-id-5 div.sk-label-container {text-align: center;}#sk-container-id-5 div.sk-container {/* jupyter's `normalize.less` sets `[hidden] { display: none; }` but bootstrap.min.css set `[hidden] { display: none !important; }` so we also need the `!important` here to be able to override the default hidden behavior on the sphinx rendered scikit-learn.org. See: https://github.com/scikit-learn/scikit-learn/issues/21755 */display: inline-block !important;position: relative;}#sk-container-id-5 div.sk-text-repr-fallback {display: none;}</style><div id=\"sk-container-id-5\" class=\"sk-top-container\"><div class=\"sk-text-repr-fallback\"><pre>Pipeline(steps=[(&#x27;CV&#x27;, CountVectorizer()),\n",
       "                (&#x27;LR&#x27;,\n",
       "                 LogisticRegression(C=0.4, class_weight=&#x27;balanced&#x27;,\n",
       "                                    penalty=&#x27;l1&#x27;, solver=&#x27;liblinear&#x27;))])</pre><b>In a Jupyter environment, please rerun this cell to show the HTML representation or trust the notebook. <br />On GitHub, the HTML representation is unable to render, please try loading this page with nbviewer.org.</b></div><div class=\"sk-container\" hidden><div class=\"sk-item sk-dashed-wrapped\"><div class=\"sk-label-container\"><div class=\"sk-label sk-toggleable\"><input class=\"sk-toggleable__control sk-hidden--visually\" id=\"sk-estimator-id-5\" type=\"checkbox\" ><label for=\"sk-estimator-id-5\" class=\"sk-toggleable__label sk-toggleable__label-arrow\">Pipeline</label><div class=\"sk-toggleable__content\"><pre>Pipeline(steps=[(&#x27;CV&#x27;, CountVectorizer()),\n",
       "                (&#x27;LR&#x27;,\n",
       "                 LogisticRegression(C=0.4, class_weight=&#x27;balanced&#x27;,\n",
       "                                    penalty=&#x27;l1&#x27;, solver=&#x27;liblinear&#x27;))])</pre></div></div></div><div class=\"sk-serial\"><div class=\"sk-item\"><div class=\"sk-estimator sk-toggleable\"><input class=\"sk-toggleable__control sk-hidden--visually\" id=\"sk-estimator-id-6\" type=\"checkbox\" ><label for=\"sk-estimator-id-6\" class=\"sk-toggleable__label sk-toggleable__label-arrow\">CountVectorizer</label><div class=\"sk-toggleable__content\"><pre>CountVectorizer()</pre></div></div></div><div class=\"sk-item\"><div class=\"sk-estimator sk-toggleable\"><input class=\"sk-toggleable__control sk-hidden--visually\" id=\"sk-estimator-id-7\" type=\"checkbox\" ><label for=\"sk-estimator-id-7\" class=\"sk-toggleable__label sk-toggleable__label-arrow\">LogisticRegression</label><div class=\"sk-toggleable__content\"><pre>LogisticRegression(C=0.4, class_weight=&#x27;balanced&#x27;, penalty=&#x27;l1&#x27;,\n",
       "                   solver=&#x27;liblinear&#x27;)</pre></div></div></div></div></div></div></div>"
      ],
      "text/plain": [
       "Pipeline(steps=[('CV', CountVectorizer()),\n",
       "                ('LR',\n",
       "                 LogisticRegression(C=0.4, class_weight='balanced',\n",
       "                                    penalty='l1', solver='liblinear'))])"
      ]
     },
     "execution_count": 252,
     "metadata": {},
     "output_type": "execute_result"
    }
   ],
   "source": [
    "CV_pipe.fit(X,y)"
   ]
  },
  {
   "cell_type": "code",
   "execution_count": 253,
   "id": "6ca6fb44-cfdc-40de-a858-9d322e48fb69",
   "metadata": {},
   "outputs": [
    {
     "data": {
      "text/plain": [
       "4375"
      ]
     },
     "execution_count": 253,
     "metadata": {},
     "output_type": "execute_result"
    }
   ],
   "source": [
    "len(CV_pipe['CV'].vocabulary_)  # CV with stopwords applied already & word_len > 2"
   ]
  },
  {
   "cell_type": "code",
   "execution_count": 254,
   "id": "27ee228f-8d68-413f-a44b-a64bfccc11e1",
   "metadata": {},
   "outputs": [
    {
     "data": {
      "text/plain": [
       "'1.2.0'"
      ]
     },
     "execution_count": 254,
     "metadata": {},
     "output_type": "execute_result"
    }
   ],
   "source": [
    "import joblib\n",
    "joblib.__version__"
   ]
  },
  {
   "cell_type": "code",
   "execution_count": 255,
   "id": "97261769-3d9c-4f90-8194-b08ab3030d4d",
   "metadata": {},
   "outputs": [
    {
     "name": "stdout",
     "output_type": "stream",
     "text": [
      "Requirement already satisfied: mglearn in c:\\users\\ujjaw\\anaconda3\\lib\\site-packages (0.2.0)\n",
      "Requirement already satisfied: numpy in c:\\users\\ujjaw\\anaconda3\\lib\\site-packages (from mglearn) (1.26.3)\n",
      "Requirement already satisfied: matplotlib in c:\\users\\ujjaw\\anaconda3\\lib\\site-packages (from mglearn) (3.8.0)\n",
      "Requirement already satisfied: scikit-learn in c:\\users\\ujjaw\\anaconda3\\lib\\site-packages (from mglearn) (1.2.2)\n",
      "Requirement already satisfied: pandas in c:\\users\\ujjaw\\anaconda3\\lib\\site-packages (from mglearn) (2.1.4)\n",
      "Requirement already satisfied: pillow in c:\\users\\ujjaw\\anaconda3\\lib\\site-packages (from mglearn) (10.0.1)\n",
      "Requirement already satisfied: cycler in c:\\users\\ujjaw\\anaconda3\\lib\\site-packages (from mglearn) (0.11.0)\n",
      "Requirement already satisfied: imageio in c:\\users\\ujjaw\\anaconda3\\lib\\site-packages (from mglearn) (2.31.4)\n",
      "Requirement already satisfied: joblib in c:\\users\\ujjaw\\anaconda3\\lib\\site-packages (from mglearn) (1.2.0)\n",
      "Requirement already satisfied: contourpy>=1.0.1 in c:\\users\\ujjaw\\anaconda3\\lib\\site-packages (from matplotlib->mglearn) (1.2.0)\n",
      "Requirement already satisfied: fonttools>=4.22.0 in c:\\users\\ujjaw\\anaconda3\\lib\\site-packages (from matplotlib->mglearn) (4.25.0)\n",
      "Requirement already satisfied: kiwisolver>=1.0.1 in c:\\users\\ujjaw\\anaconda3\\lib\\site-packages (from matplotlib->mglearn) (1.4.4)\n",
      "Requirement already satisfied: packaging>=20.0 in c:\\users\\ujjaw\\anaconda3\\lib\\site-packages (from matplotlib->mglearn) (23.1)\n",
      "Requirement already satisfied: pyparsing>=2.3.1 in c:\\users\\ujjaw\\anaconda3\\lib\\site-packages (from matplotlib->mglearn) (3.0.9)\n",
      "Requirement already satisfied: python-dateutil>=2.7 in c:\\users\\ujjaw\\anaconda3\\lib\\site-packages (from matplotlib->mglearn) (2.8.2)\n",
      "Requirement already satisfied: pytz>=2020.1 in c:\\users\\ujjaw\\anaconda3\\lib\\site-packages (from pandas->mglearn) (2023.3.post1)\n",
      "Requirement already satisfied: tzdata>=2022.1 in c:\\users\\ujjaw\\anaconda3\\lib\\site-packages (from pandas->mglearn) (2023.3)\n",
      "Requirement already satisfied: scipy>=1.3.2 in c:\\users\\ujjaw\\anaconda3\\lib\\site-packages (from scikit-learn->mglearn) (1.11.4)\n",
      "Requirement already satisfied: threadpoolctl>=2.0.0 in c:\\users\\ujjaw\\anaconda3\\lib\\site-packages (from scikit-learn->mglearn) (2.2.0)\n",
      "Requirement already satisfied: six>=1.5 in c:\\users\\ujjaw\\anaconda3\\lib\\site-packages (from python-dateutil>=2.7->matplotlib->mglearn) (1.16.0)\n"
     ]
    }
   ],
   "source": [
    "!pip install mglearn\n",
    "import mglearn"
   ]
  },
  {
   "cell_type": "code",
   "execution_count": 257,
   "id": "9ef6781b-ecea-4ebe-bb20-56ae270ba998",
   "metadata": {},
   "outputs": [],
   "source": [
    "df.to_pickle(\"Sentiment_Analysis.pkl\")"
   ]
  }
 ],
 "metadata": {
  "kernelspec": {
   "display_name": "Python 3 (ipykernel)",
   "language": "python",
   "name": "python3"
  },
  "language_info": {
   "codemirror_mode": {
    "name": "ipython",
    "version": 3
   },
   "file_extension": ".py",
   "mimetype": "text/x-python",
   "name": "python",
   "nbconvert_exporter": "python",
   "pygments_lexer": "ipython3",
   "version": "3.11.7"
  }
 },
 "nbformat": 4,
 "nbformat_minor": 5
}
